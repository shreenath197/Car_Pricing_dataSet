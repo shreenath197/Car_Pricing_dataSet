{
 "cells": [
  {
   "cell_type": "markdown",
   "metadata": {
    "button": false,
    "new_sheet": false,
    "run_control": {
     "read_only": false
    }
   },
   "source": [
    "\n",
    "<h1 align=center><font size = 5>FEATURE ENGINEERING End-to End PROJECT (30M) </font></h1>\n",
    "<h2 align=center><font size = 5>AIML Certification Programme</font></h2>"
   ]
  },
  {
   "cell_type": "markdown",
   "metadata": {},
   "source": [
    "\n",
    "\n",
    "## Student Name and ID: Shreenath Omar and 2023AIML554\n",
    "\n",
    "Mention your name and ID if done individually<br>\n",
    "If done as a group,clearly mention the contribution from each group member qualitatively and as a precentage.<br>\n",
    "1.                          \n",
    "\n",
    "2.\n"
   ]
  },
  {
   "cell_type": "markdown",
   "metadata": {},
   "source": [
    "## Business Understanding (1M)\n",
    "\n",
    "Students are expected to identify a regression problem of your choice. You have to detail the Business Understanding part of your problem under this heading which basically addresses the following questions.\n",
    "\n",
    "1. What is the business problem that you are trying to solve\n",
    "\n",
    "   Answer:\n",
    "\n",
    "   Business Problem: The business problem at hand is predicting car prices based on various attributes. Accurate car price predictions can help   \n",
    "   manufacturers, dealers, and customers make informed decisions. For instance, manufacturers can set competitive prices, dealers can provide better \n",
    "   recommendations to customers, and customers can understand the value of a car based on its features.\n",
    "   \n",
    "2. What data do you need to answer the above problem?What are the different sources of data?\n",
    "\n",
    "   Answer:\n",
    "\n",
    "   Data Needed: To predict car prices, we need data on various car attributes such as make_model, model,body type, body color, km , Gearing Type, and    extras. \n",
    "   This data will help in understanding the factors that influence car prices and build a predictive model.\n",
    "\n",
    "   Sources of Data: The dataset used for this analysis is sourced from Kaggle: https://www.kaggle.com/datasets/ersany/car-price-prediction\n",
    "   "
   ]
  },
  {
   "cell_type": "markdown",
   "metadata": {
    "button": false,
    "new_sheet": false,
    "run_control": {
     "read_only": false
    }
   },
   "source": [
    "## Data Requirements and Data Collection (3+1M)<a id=\"0\"></a>"
   ]
  },
  {
   "cell_type": "markdown",
   "metadata": {
    "button": false,
    "new_sheet": false,
    "run_control": {
     "read_only": false
    }
   },
   "source": [
    "<img src=\"https://s3-api.us-geo.objectstorage.softlayer.net/cf-courses-data/CognitiveClass/DS0103EN/labs/images/lab2_fig1_flowchart_data_requirements.png\" width=500>"
   ]
  },
  {
   "cell_type": "markdown",
   "metadata": {
    "button": false,
    "new_sheet": false,
    "run_control": {
     "read_only": false
    }
   },
   "source": [
    "In the initial data collection stage, data scientists identify and gather the available data resources. These can be in the form of structured, unstructured, and even semi-structured data relevant to the problem domain.\n",
    "\n",
    "Identify the required data that fulfills the data requirements stage of the data science methodology <br>\n",
    "<b> Mention the source of the data.(Give the link if you have sourced it from any public data set)\n",
    "Briefly explain the data set identified .</b>"
   ]
  },
  {
   "cell_type": "markdown",
   "metadata": {},
   "source": [
    "#### Answer:\n",
    "Data Requirements and Data Collection\n",
    "\n",
    "Required Data: \n",
    "\n",
    "The required data includes structured data on car attributes. This data should have features that are likely to impact the car price such as make_model, model,body type, body color, km , Gearing Type, and extras.\n",
    "\n",
    "Source: \n",
    "\n",
    "The dataset is publicly available on Kaggle: Car Price Prediction Dataset (link:-https://www.kaggle.com/datasets/ersany/car-price-prediction)\n",
    "\n",
    "dataset is uploaded in Github repository :- https://github.com/shreenath197/car_pricing_dataSet.git\n",
    "\n",
    "raw content url of car pricing dataset csv file:- https://raw.githubusercontent.com/shreenath197/car_pricing_dataSet/main/car_price.csv\n",
    "\n",
    "Dataset Overview: \n",
    "\n",
    "The dataset contains various attributes of cars which will be used to predict their prices. We will import this dataset and perform an initial analysis.\n",
    "\n",
    "#### The dataset includes the following features:-\n",
    "1- make_model---> (Categorical Attributes)\n",
    "\n",
    "2- body type----> (Categorical Attributes)\n",
    "\n",
    "3- body color---> (Categorical Attributes)\n",
    "\n",
    "4- km-----------> (Numerical Attributes)\n",
    "\n",
    "5- hp-----------> (Numerical Attributes)\n",
    "\n",
    "6- Gearing Type-> (Categorical Attributes)\n",
    "\n",
    "7- extras-------> (Categorical Attributes)\n",
    "\n",
    "8- Price--------> (Numerical Attributes) target variable\n"
   ]
  },
  {
   "cell_type": "markdown",
   "metadata": {},
   "source": [
    "### Import the above data and read it into a data frame "
   ]
  },
  {
   "cell_type": "code",
   "execution_count": 157,
   "metadata": {
    "button": false,
    "new_sheet": false,
    "run_control": {
     "read_only": false
    }
   },
   "outputs": [],
   "source": [
    "# importing required package\n",
    "import pandas as pd\n",
    "import warnings as war\n",
    "war.filterwarnings('ignore')\n",
    "# defining dataSet github raw url for csv dataSet file\n",
    "github_filePath=\"https://raw.githubusercontent.com/shreenath197/car_pricing_dataSet/main/car_price.csv\"\n",
    "# loading dataSet\n",
    "dataSet=pd.read_csv(github_filePath)"
   ]
  },
  {
   "cell_type": "markdown",
   "metadata": {
    "button": false,
    "new_sheet": false,
    "run_control": {
     "read_only": false
    }
   },
   "source": [
    "### Confirm the data has been correctly by displaying the first 5 and last 5 records."
   ]
  },
  {
   "cell_type": "code",
   "execution_count": 158,
   "metadata": {
    "button": false,
    "new_sheet": false,
    "run_control": {
     "read_only": false
    }
   },
   "outputs": [
    {
     "name": "stdout",
     "output_type": "stream",
     "text": [
      "*************************************Displaying below first 5 records*************************************\n"
     ]
    },
    {
     "data": {
      "text/html": [
       "<div>\n",
       "<style scoped>\n",
       "    .dataframe tbody tr th:only-of-type {\n",
       "        vertical-align: middle;\n",
       "    }\n",
       "\n",
       "    .dataframe tbody tr th {\n",
       "        vertical-align: top;\n",
       "    }\n",
       "\n",
       "    .dataframe thead th {\n",
       "        text-align: right;\n",
       "    }\n",
       "</style>\n",
       "<table border=\"1\" class=\"dataframe\">\n",
       "  <thead>\n",
       "    <tr style=\"text-align: right;\">\n",
       "      <th></th>\n",
       "      <th>make_model</th>\n",
       "      <th>body_type</th>\n",
       "      <th>Body Color</th>\n",
       "      <th>km</th>\n",
       "      <th>hp</th>\n",
       "      <th>Gearing Type</th>\n",
       "      <th>Extras</th>\n",
       "      <th>price</th>\n",
       "    </tr>\n",
       "  </thead>\n",
       "  <tbody>\n",
       "    <tr>\n",
       "      <th>0</th>\n",
       "      <td>Audi A1</td>\n",
       "      <td>Sedans</td>\n",
       "      <td>Black</td>\n",
       "      <td>56013.0</td>\n",
       "      <td>85</td>\n",
       "      <td>Automatic</td>\n",
       "      <td>Converter</td>\n",
       "      <td>15770</td>\n",
       "    </tr>\n",
       "    <tr>\n",
       "      <th>1</th>\n",
       "      <td>Audi A1</td>\n",
       "      <td>Sedans</td>\n",
       "      <td>Red</td>\n",
       "      <td>80000.0</td>\n",
       "      <td>85</td>\n",
       "      <td>Automatic</td>\n",
       "      <td>Sport</td>\n",
       "      <td>14500</td>\n",
       "    </tr>\n",
       "    <tr>\n",
       "      <th>2</th>\n",
       "      <td>Audi A1</td>\n",
       "      <td>Sedans</td>\n",
       "      <td>Black</td>\n",
       "      <td>83450.0</td>\n",
       "      <td>85</td>\n",
       "      <td>Automatic</td>\n",
       "      <td>Others</td>\n",
       "      <td>14640</td>\n",
       "    </tr>\n",
       "    <tr>\n",
       "      <th>3</th>\n",
       "      <td>Audi A1</td>\n",
       "      <td>Sedans</td>\n",
       "      <td>Brown</td>\n",
       "      <td>73000.0</td>\n",
       "      <td>85</td>\n",
       "      <td>Automatic</td>\n",
       "      <td>Sport</td>\n",
       "      <td>14500</td>\n",
       "    </tr>\n",
       "    <tr>\n",
       "      <th>4</th>\n",
       "      <td>Audi A1</td>\n",
       "      <td>Sedans</td>\n",
       "      <td>Black</td>\n",
       "      <td>16200.0</td>\n",
       "      <td>85</td>\n",
       "      <td>Automatic</td>\n",
       "      <td>Sport</td>\n",
       "      <td>16790</td>\n",
       "    </tr>\n",
       "  </tbody>\n",
       "</table>\n",
       "</div>"
      ],
      "text/plain": [
       "  make_model body_type Body Color       km  hp Gearing Type     Extras  price\n",
       "0    Audi A1    Sedans      Black  56013.0  85    Automatic  Converter  15770\n",
       "1    Audi A1    Sedans        Red  80000.0  85    Automatic      Sport  14500\n",
       "2    Audi A1    Sedans      Black  83450.0  85    Automatic     Others  14640\n",
       "3    Audi A1    Sedans      Brown  73000.0  85    Automatic      Sport  14500\n",
       "4    Audi A1    Sedans      Black  16200.0  85    Automatic      Sport  16790"
      ]
     },
     "execution_count": 158,
     "metadata": {},
     "output_type": "execute_result"
    }
   ],
   "source": [
    "# displaying first 5 records to confirming data loading\n",
    "print(\"*************************************Displaying below first 5 records*************************************\")\n",
    "dataSet.head()"
   ]
  },
  {
   "cell_type": "code",
   "execution_count": 159,
   "metadata": {},
   "outputs": [
    {
     "name": "stdout",
     "output_type": "stream",
     "text": [
      "***************************************Displaying below last 5 records***************************************\n"
     ]
    },
    {
     "data": {
      "text/html": [
       "<div>\n",
       "<style scoped>\n",
       "    .dataframe tbody tr th:only-of-type {\n",
       "        vertical-align: middle;\n",
       "    }\n",
       "\n",
       "    .dataframe tbody tr th {\n",
       "        vertical-align: top;\n",
       "    }\n",
       "\n",
       "    .dataframe thead th {\n",
       "        text-align: right;\n",
       "    }\n",
       "</style>\n",
       "<table border=\"1\" class=\"dataframe\">\n",
       "  <thead>\n",
       "    <tr style=\"text-align: right;\">\n",
       "      <th></th>\n",
       "      <th>make_model</th>\n",
       "      <th>body_type</th>\n",
       "      <th>Body Color</th>\n",
       "      <th>km</th>\n",
       "      <th>hp</th>\n",
       "      <th>Gearing Type</th>\n",
       "      <th>Extras</th>\n",
       "      <th>price</th>\n",
       "    </tr>\n",
       "  </thead>\n",
       "  <tbody>\n",
       "    <tr>\n",
       "      <th>4795</th>\n",
       "      <td>Audi A3</td>\n",
       "      <td>Sedans</td>\n",
       "      <td>White</td>\n",
       "      <td>54.0</td>\n",
       "      <td>85</td>\n",
       "      <td>Manual</td>\n",
       "      <td>Sport</td>\n",
       "      <td>25000</td>\n",
       "    </tr>\n",
       "    <tr>\n",
       "      <th>4796</th>\n",
       "      <td>Audi A3</td>\n",
       "      <td>Sedans</td>\n",
       "      <td>White</td>\n",
       "      <td>50.0</td>\n",
       "      <td>85</td>\n",
       "      <td>Manual</td>\n",
       "      <td>Others</td>\n",
       "      <td>24980</td>\n",
       "    </tr>\n",
       "    <tr>\n",
       "      <th>4797</th>\n",
       "      <td>Audi A3</td>\n",
       "      <td>Station wagon</td>\n",
       "      <td>Silver</td>\n",
       "      <td>6666.0</td>\n",
       "      <td>85</td>\n",
       "      <td>Manual</td>\n",
       "      <td>Others</td>\n",
       "      <td>24980</td>\n",
       "    </tr>\n",
       "    <tr>\n",
       "      <th>4798</th>\n",
       "      <td>Audi A3</td>\n",
       "      <td>Sedans</td>\n",
       "      <td>Silver</td>\n",
       "      <td>10.0</td>\n",
       "      <td>85</td>\n",
       "      <td>Manual</td>\n",
       "      <td>Others</td>\n",
       "      <td>24980</td>\n",
       "    </tr>\n",
       "    <tr>\n",
       "      <th>4799</th>\n",
       "      <td>Audi A3</td>\n",
       "      <td>Sedans</td>\n",
       "      <td>Silver</td>\n",
       "      <td>10.0</td>\n",
       "      <td>85</td>\n",
       "      <td>Manual</td>\n",
       "      <td>Others</td>\n",
       "      <td>24980</td>\n",
       "    </tr>\n",
       "  </tbody>\n",
       "</table>\n",
       "</div>"
      ],
      "text/plain": [
       "     make_model      body_type Body Color      km  hp Gearing Type  Extras  \\\n",
       "4795    Audi A3         Sedans      White    54.0  85       Manual   Sport   \n",
       "4796    Audi A3         Sedans      White    50.0  85       Manual  Others   \n",
       "4797    Audi A3  Station wagon     Silver  6666.0  85       Manual  Others   \n",
       "4798    Audi A3         Sedans     Silver    10.0  85       Manual  Others   \n",
       "4799    Audi A3         Sedans     Silver    10.0  85       Manual  Others   \n",
       "\n",
       "      price  \n",
       "4795  25000  \n",
       "4796  24980  \n",
       "4797  24980  \n",
       "4798  24980  \n",
       "4799  24980  "
      ]
     },
     "execution_count": 159,
     "metadata": {},
     "output_type": "execute_result"
    }
   ],
   "source": [
    "# displaying last 5 records to confirming data loading\n",
    "print(\"***************************************Displaying below last 5 records***************************************\")\n",
    "dataSet.tail()"
   ]
  },
  {
   "cell_type": "markdown",
   "metadata": {
    "button": false,
    "new_sheet": false,
    "run_control": {
     "read_only": false
    }
   },
   "source": [
    "### Get the dimensions of the dataframe."
   ]
  },
  {
   "cell_type": "code",
   "execution_count": 160,
   "metadata": {},
   "outputs": [
    {
     "name": "stdout",
     "output_type": "stream",
     "text": [
      "Dimention of dataframe:- (4800, 8)\n",
      "Total no. of rows:-      4800 \n",
      "Total no. of columns:-   8 \n"
     ]
    }
   ],
   "source": [
    "# displaying the dimensions of the DataFrame\n",
    "print(\"Dimention of dataframe:- {}\".format(dataSet.shape[0:2]))\n",
    "print(\"Total no. of rows:-      {} \".format(dataSet.shape[0:2][0]))\n",
    "print(\"Total no. of columns:-   {} \".format(dataSet.shape[0:2][1]))"
   ]
  },
  {
   "cell_type": "markdown",
   "metadata": {
    "button": false,
    "collapsed": true,
    "jupyter": {
     "outputs_hidden": true
    },
    "new_sheet": false,
    "run_control": {
     "read_only": false
    }
   },
   "source": [
    "### Display the description and statistical summary of the data."
   ]
  },
  {
   "cell_type": "code",
   "execution_count": 161,
   "metadata": {
    "scrolled": true
   },
   "outputs": [
    {
     "data": {
      "text/html": [
       "<div>\n",
       "<style scoped>\n",
       "    .dataframe tbody tr th:only-of-type {\n",
       "        vertical-align: middle;\n",
       "    }\n",
       "\n",
       "    .dataframe tbody tr th {\n",
       "        vertical-align: top;\n",
       "    }\n",
       "\n",
       "    .dataframe thead th {\n",
       "        text-align: right;\n",
       "    }\n",
       "</style>\n",
       "<table border=\"1\" class=\"dataframe\">\n",
       "  <thead>\n",
       "    <tr style=\"text-align: right;\">\n",
       "      <th></th>\n",
       "      <th>km</th>\n",
       "      <th>hp</th>\n",
       "      <th>price</th>\n",
       "    </tr>\n",
       "  </thead>\n",
       "  <tbody>\n",
       "    <tr>\n",
       "      <th>count</th>\n",
       "      <td>4797.000000</td>\n",
       "      <td>4800.0</td>\n",
       "      <td>4800.000000</td>\n",
       "    </tr>\n",
       "    <tr>\n",
       "      <th>mean</th>\n",
       "      <td>31931.949135</td>\n",
       "      <td>85.0</td>\n",
       "      <td>19722.871875</td>\n",
       "    </tr>\n",
       "    <tr>\n",
       "      <th>std</th>\n",
       "      <td>35902.589244</td>\n",
       "      <td>0.0</td>\n",
       "      <td>4337.519969</td>\n",
       "    </tr>\n",
       "    <tr>\n",
       "      <th>min</th>\n",
       "      <td>0.000000</td>\n",
       "      <td>85.0</td>\n",
       "      <td>5555.000000</td>\n",
       "    </tr>\n",
       "    <tr>\n",
       "      <th>25%</th>\n",
       "      <td>4800.000000</td>\n",
       "      <td>85.0</td>\n",
       "      <td>15990.000000</td>\n",
       "    </tr>\n",
       "    <tr>\n",
       "      <th>50%</th>\n",
       "      <td>20049.000000</td>\n",
       "      <td>85.0</td>\n",
       "      <td>19588.000000</td>\n",
       "    </tr>\n",
       "    <tr>\n",
       "      <th>75%</th>\n",
       "      <td>47800.000000</td>\n",
       "      <td>85.0</td>\n",
       "      <td>22692.500000</td>\n",
       "    </tr>\n",
       "    <tr>\n",
       "      <th>max</th>\n",
       "      <td>291800.000000</td>\n",
       "      <td>85.0</td>\n",
       "      <td>56100.000000</td>\n",
       "    </tr>\n",
       "  </tbody>\n",
       "</table>\n",
       "</div>"
      ],
      "text/plain": [
       "                  km      hp         price\n",
       "count    4797.000000  4800.0   4800.000000\n",
       "mean    31931.949135    85.0  19722.871875\n",
       "std     35902.589244     0.0   4337.519969\n",
       "min         0.000000    85.0   5555.000000\n",
       "25%      4800.000000    85.0  15990.000000\n",
       "50%     20049.000000    85.0  19588.000000\n",
       "75%     47800.000000    85.0  22692.500000\n",
       "max    291800.000000    85.0  56100.000000"
      ]
     },
     "execution_count": 161,
     "metadata": {},
     "output_type": "execute_result"
    }
   ],
   "source": [
    "# displaying the description and statistical summary of the data\n",
    "dataSet.describe()"
   ]
  },
  {
   "cell_type": "markdown",
   "metadata": {
    "button": false,
    "new_sheet": false,
    "run_control": {
     "read_only": false
    }
   },
   "source": [
    "### Display the columns and their respective data types."
   ]
  },
  {
   "cell_type": "code",
   "execution_count": 162,
   "metadata": {},
   "outputs": [
    {
     "name": "stdout",
     "output_type": "stream",
     "text": [
      "<class 'pandas.core.frame.DataFrame'>\n",
      "RangeIndex: 4800 entries, 0 to 4799\n",
      "Data columns (total 8 columns):\n",
      " #   Column        Non-Null Count  Dtype  \n",
      "---  ------        --------------  -----  \n",
      " 0   make_model    4800 non-null   object \n",
      " 1   body_type     4800 non-null   object \n",
      " 2   Body Color    4796 non-null   object \n",
      " 3   km            4797 non-null   float64\n",
      " 4   hp            4800 non-null   int64  \n",
      " 5   Gearing Type  4800 non-null   object \n",
      " 6   Extras        4800 non-null   object \n",
      " 7   price         4800 non-null   int64  \n",
      "dtypes: float64(1), int64(2), object(5)\n",
      "memory usage: 300.1+ KB\n"
     ]
    }
   ],
   "source": [
    "# displaying the columns and their respective data types\n",
    "dataSet.info()"
   ]
  },
  {
   "cell_type": "code",
   "execution_count": 163,
   "metadata": {},
   "outputs": [],
   "source": [
    "# removing 'hp' attribute as 'hp' attribute has no variation\n",
    "dataSet=dataSet.drop(columns=['hp'])"
   ]
  },
  {
   "cell_type": "markdown",
   "metadata": {},
   "source": [
    "### Convert the columns to appropriate data types"
   ]
  },
  {
   "cell_type": "code",
   "execution_count": 164,
   "metadata": {},
   "outputs": [
    {
     "name": "stdout",
     "output_type": "stream",
     "text": [
      "<class 'pandas.core.frame.DataFrame'>\n",
      "RangeIndex: 4800 entries, 0 to 4799\n",
      "Data columns (total 7 columns):\n",
      " #   Column        Non-Null Count  Dtype   \n",
      "---  ------        --------------  -----   \n",
      " 0   make_model    4800 non-null   category\n",
      " 1   body_type     4800 non-null   category\n",
      " 2   Body Color    4796 non-null   category\n",
      " 3   km            4797 non-null   float64 \n",
      " 4   Gearing Type  4800 non-null   category\n",
      " 5   Extras        4800 non-null   category\n",
      " 6   price         4800 non-null   int64   \n",
      "dtypes: category(5), float64(1), int64(1)\n",
      "memory usage: 99.9 KB\n"
     ]
    }
   ],
   "source": [
    "#Convert categorical in values\n",
    "dataSet.make_model = pd.Categorical(dataSet.make_model)\n",
    "dataSet.body_type = pd.Categorical(dataSet.body_type)\n",
    "dataSet[\"Body Color\"]=pd.Categorical(dataSet['Body Color'])\n",
    "dataSet[\"Gearing Type\"]=pd.Categorical(dataSet['Gearing Type'])\n",
    "dataSet.Extras = pd.Categorical(dataSet.Extras)\n",
    "dataSet.info()"
   ]
  },
  {
   "cell_type": "markdown",
   "metadata": {},
   "source": [
    "#### Write your observations from the above.\n"
   ]
  },
  {
   "cell_type": "markdown",
   "metadata": {},
   "source": [
    "#### 1- Sample Size:\n",
    "   There are 4,797 entries for kilometers and 4,800 entries for price, indicating a very slight difference in the number of entries between the two   \n",
    "   variables.\n",
    "\n",
    "#### 2- Statistical summary of km and price: \n",
    "(A)- Kilometers (km)\n",
    "\n",
    "    --> The mean (average) number of kilometers is 31,931.95.\n",
    "    --> The median (50th percentile) is 20,049 kilometers, indicating that half of the cars have been driven \n",
    "        less than 20,049 kilometers.\n",
    "    --> The standard deviation is 35,902.59, which is relatively large compared to the mean, \n",
    "        suggesting a wide range of values.\n",
    "    --> The minimum value is 0 kilometers, indicating some cars might be brand new or with very minimal mileage.\n",
    "    --> The maximum value is 291,800 kilometers, indicating some cars have been driven extensively.\n",
    "   \n",
    "    \n",
    "(B)- Price\n",
    "\n",
    "    --> Price is target attribute for this data set.\n",
    "    --> The mean (average) price is 19,722.87.\n",
    "    --> The median (50th percentile) price is 19,588, suggesting that half of the cars are priced below this value.\n",
    "    --> The standard deviation is 4,337.52, which shows moderate variability in prices.\n",
    "    --> The minimum price is 5,555, showing that some cars are quite inexpensive.\n",
    "    --> The maximum price is 56,100, indicating some cars are relatively high-priced.\n",
    "\n",
    "\n",
    "(c)- hp\n",
    "\n",
    "    --> hp attribute does not have a significant impact on the target variable 'price ' ad 'hp' attribute has no variation\n",
    "    --> hp attribute can be removed to to simplify the model.\n",
    "\n",
    "\n",
    "\n",
    "\n",
    "#### 3- Data Consistency:\n",
    "\n",
    "    --> The slight difference in the count of entries for kilometers and price (4,797 vs. 4,800) might suggest some missing \n",
    "        or mismatched data points.\n",
    "\n",
    "\n"
   ]
  },
  {
   "cell_type": "markdown",
   "metadata": {},
   "source": [
    "### Check for Data Quality Issues (1.5M)\n",
    "\n",
    "* duplicate data\n",
    "* missing data\n",
    "* data inconsistencies"
   ]
  },
  {
   "cell_type": "code",
   "execution_count": 165,
   "metadata": {},
   "outputs": [
    {
     "name": "stdout",
     "output_type": "stream",
     "text": [
      "Total no of duplicate records count:- 491\n"
     ]
    }
   ],
   "source": [
    "# Checking for duplicate records\n",
    "duplicateValue_Count=dataSet.duplicated().sum()\n",
    "print(\"Total no of duplicate records count:- {}\".format(duplicateValue_Count))"
   ]
  },
  {
   "cell_type": "code",
   "execution_count": 166,
   "metadata": {},
   "outputs": [
    {
     "name": "stdout",
     "output_type": "stream",
     "text": [
      "make_model      0\n",
      "body_type       0\n",
      "Body Color      4\n",
      "km              3\n",
      "Gearing Type    0\n",
      "Extras          0\n",
      "price           0\n",
      "dtype: int64\n"
     ]
    }
   ],
   "source": [
    "#Finding total no. of missing values for attributes specific\n",
    "missingValue_Count=dataSet.isnull().sum()\n",
    "print(missingValue_Count)"
   ]
  },
  {
   "cell_type": "code",
   "execution_count": 167,
   "metadata": {},
   "outputs": [
    {
     "name": "stdout",
     "output_type": "stream",
     "text": [
      "Body Color    4\n",
      "km            3\n",
      "dtype: int64\n",
      "Below is the list of  missing values attributes:- \n",
      "Index(['Body Color', 'km'], dtype='object')\n"
     ]
    }
   ],
   "source": [
    "#finding missing values attribues with counts\n",
    "missingValue_attributes=missingValue_Count[missingValue_Count.where(missingValue_Count.values>0).notnull()]\n",
    "print(missingValue_attributes)\n",
    "#Finding the attributes's key which have missing values\n",
    "print(\"Below is the list of  missing values attributes:- \")\n",
    "print(missingValue_attributes.keys())"
   ]
  },
  {
   "cell_type": "code",
   "execution_count": 168,
   "metadata": {},
   "outputs": [
    {
     "name": "stdout",
     "output_type": "stream",
     "text": [
      "Body Color attribute null value index:- Index([4606, 4607, 4608, 4609], dtype='int64')\n",
      "km attribute null value index:- Index([4636, 4637, 4638], dtype='int64')\n"
     ]
    }
   ],
   "source": [
    "#finding index for NULL valuees in 'Body Color' attribure\n",
    "BodyColor_nullValues_index=dataSet[dataSet['Body Color'].isnull()].index\n",
    "print(\"Body Color attribute null value index:- {}\".format(BodyColor_nullValues_index))\n",
    "km_nullValues_index=dataSet[dataSet['km'].isnull()].index\n",
    "print(\"km attribute null value index:- {}\".format(km_nullValues_index))"
   ]
  },
  {
   "cell_type": "code",
   "execution_count": 169,
   "metadata": {},
   "outputs": [
    {
     "name": "stdout",
     "output_type": "stream",
     "text": [
      "***** Data Inconsistency in Categorical features *****\n",
      "Column:make_model ['Audi A1', 'Audi A2', 'Audi A3']\n",
      "Categories (3, object): ['Audi A1', 'Audi A2', 'Audi A3']\n",
      "Column:body_type ['Sedans', 'Station wagon', 'Compact', 'Coupe', 'Other', 'Off-Road', 'Convertible']\n",
      "Categories (7, object): ['Compact', 'Convertible', 'Coupe', 'Off-Road', 'Other', 'Sedans', 'Station wagon']\n",
      "Column:Body Color ['Black', 'Red', 'Brown', 'White', 'Grey', ..., 'Yellow', 'Green', 'Bronze', 'Orange', NaN]\n",
      "Length: 14\n",
      "Categories (13, object): ['Beige', 'Black', 'Blue', 'Bronze', ..., 'Silver', 'Violet', 'White', 'Yellow']\n",
      "Column:Gearing Type ['Automatic', 'Manual', 'Semi-automatic']\n",
      "Categories (3, object): ['Automatic', 'Manual', 'Semi-automatic']\n",
      "Column:Extras ['Converter', 'Sport', 'Others']\n",
      "Categories (3, object): ['Converter', 'Others', 'Sport']\n"
     ]
    }
   ],
   "source": [
    "# checking for inconsistencies for categorical features\n",
    "print('***** Data Inconsistency in Categorical features *****')\n",
    "print('Column:make_model',dataSet['make_model'].unique())\n",
    "print('Column:body_type',dataSet['body_type'].unique())\n",
    "print('Column:Body Color',dataSet['Body Color'].unique())\n",
    "print('Column:Gearing Type',dataSet['Gearing Type'].unique())\n",
    "print('Column:Extras',dataSet['Extras'].unique())"
   ]
  },
  {
   "cell_type": "code",
   "execution_count": 170,
   "metadata": {},
   "outputs": [
    {
     "name": "stdout",
     "output_type": "stream",
     "text": [
      "Column: km , Mean value : 31931.949134875966\n",
      "q1: 4800.0\n",
      "q3: 47800.0\n",
      "iqr: 43000.0\n",
      "upper_value: 112300.0\n",
      "lower_value: -59700.0\n",
      "-----------------------------------------------------------\n",
      "upper_value_km: 112300.0  lower_value_km: -59700.0\n",
      "-----------------------------------------------------------\n",
      "outliers_km_values: [115000.0, 126000.0, 192000.0, 130000.0, 137066.0, 115900.0, 146140.0, 129550.0, 125000.0, 115000.0, 118200.0, 168000.0, 137145.0, 146710.0, 124521.0, 148257.0, 136000.0, 141147.0, 158300.0, 120000.0, 121650.0, 144000.0, 122381.0, 120522.0, 120121.0, 161205.0, 115137.0, 122000.0, 123750.0, 133000.0, 171000.0, 136100.0, 115000.0, 115000.0, 144000.0, 146503.0, 124136.0, 142000.0, 170231.0, 129000.0, 120454.0, 123748.0, 135600.0, 138700.0, 126192.0, 120497.0, 123230.0, 134950.0, 124950.0, 144572.0, 119100.0, 158500.0, 114573.0, 169501.0, 117000.0, 133900.0, 126100.0, 150000.0, 148818.0, 115802.0, 121200.0, 127324.0, 119500.0, 175000.0, 126000.0, 120000.0, 118366.0, 170000.0, 160385.0, 162553.0, 144995.0, 174100.0, 113490.0, 118032.0, 140000.0, 140000.0, 121510.0, 127335.0, 145000.0, 155000.0, 141000.0, 163871.0, 186000.0, 126200.0, 207000.0, 132414.0, 119000.0, 126416.0, 119529.0, 179000.0, 142011.0, 119427.0, 170000.0, 291800.0, 160000.0, 140229.0, 113000.0, 138000.0, 120000.0, 144450.0, 116460.0, 200814.0, 150000.0, 124197.0, 160000.0, 174000.0, 119000.0, 149000.0, 115694.0, 138717.0, 142000.0, 158000.0, 127435.0, 149170.0, 141939.0, 165650.0, 165650.0, 117000.0, 179150.0, 135887.0, 114000.0, 113200.0, 151800.0, 130000.0, 127896.0, 152000.0, 131290.0, 112750.0, 128429.0, 128429.0, 154910.0, 160000.0, 138653.0, 124800.0, 146900.0, 123561.0, 165081.0, 183000.0, 209000.0, 204000.0, 193000.0, 156000.0, 122189.0, 135936.0, 152818.0, 136819.0, 116000.0, 136552.0, 149999.0, 144000.0, 157000.0, 133990.0, 133000.0, 127000.0, 119900.0, 149000.0, 114230.0, 121000.0, 122000.0, 125000.0, 165000.0, 169000.0, 161000.0, 150000.0, 157000.0, 150000.0, 152000.0, 142036.0, 116593.0, 142800.0, 129800.0, 118982.0, 146839.0, 122300.0, 124511.0, 127892.0, 116000.0, 117000.0, 116557.0, 146357.0, 157544.0, 133000.0, 136000.0, 117647.0, 117000.0, 112700.0, 139879.0, 131900.0, 115000.0, 127000.0, 114550.0]\n"
     ]
    }
   ],
   "source": [
    "# checking data inconsistency for numerical features\n",
    "# numerical list\n",
    "num_cols = ['km']\n",
    "num_cols\n",
    "# outlier List\n",
    "outliers_km=[]\n",
    "dataSet_tmp = dataSet[num_cols]\n",
    "dataSet_tmp\n",
    "\n",
    "for item in num_cols:\n",
    "    #print('item/col :' , item)\n",
    "    mean_value= dataSet_tmp[item].mean()\n",
    "    print('Column:' ,item,', Mean value :',mean_value)\n",
    "\n",
    "# q1 = np.percentile(df_tmp[item],25)\n",
    "    q1 = dataSet_tmp[item].quantile(0.25)\n",
    "    print('q1:',q1)\n",
    "    \n",
    "    #q3 = np.percentile(df_tmp[item],75)\n",
    "    q3 = dataSet_tmp[item].quantile(0.75)\n",
    "    print('q3:',q3)\n",
    "    \n",
    "    iqr = q3 - q1\n",
    "    print('iqr:',iqr)\n",
    "\n",
    "    upper_value = q3 + (1.5 * iqr)\n",
    "    print('upper_value:',upper_value)\n",
    "    lower_value = q1 - (1.5 * iqr)\n",
    "    print('lower_value:',lower_value)\n",
    "\n",
    "    for i in dataSet_tmp[item]:\n",
    "        if i > upper_value or i < lower_value:\n",
    "            if item == 'km':\n",
    "                outliers_km.append(i)\n",
    "                upper_value_km = upper_value\n",
    "                lower_value_km = lower_value\n",
    "print('-----------------------------------------------------------')\n",
    "print('upper_value_km:',upper_value_km,' lower_value_km:',lower_value_km)\n",
    "print('-----------------------------------------------------------')\n",
    "print('outliers_km_values:',outliers_km)"
   ]
  },
  {
   "cell_type": "code",
   "execution_count": 171,
   "metadata": {},
   "outputs": [
    {
     "data": {
      "image/png": "[encoded data removed]",
      "text/plain": [
       "<Figure size 1500x3000 with 1 Axes>"
      ]
     },
     "metadata": {},
     "output_type": "display_data"
    }
   ],
   "source": [
    "# importing required package\n",
    "import seaborn as sbn\n",
    "import matplotlib.pyplot as plt\n",
    "# All columns are not numeric, need to select the columns explicitly\n",
    "list = ['km']\n",
    "dataSet_new = dataSet[list]\n",
    "# Boxplot\n",
    "sbn.set_style(\"whitegrid\") \n",
    "columns = dataSet_new.columns\n",
    "# Plot build for each variable \n",
    "plt.figure(figsize=(15, 30) )\n",
    "for count, item in enumerate(columns, 1): \n",
    "    plt.subplot(4, 2, count) \n",
    "    sbn.boxplot(dataSet_new[item])\n",
    "    plt.title(f\"Variable Name : {item}\")\n",
    "\n",
    "plt.tight_layout() \n",
    "plt.show()\n"
   ]
  },
  {
   "cell_type": "markdown",
   "metadata": {},
   "source": [
    "### Handling the data quality issues(1.5M)\n",
    "Apply techniques\n",
    "* to remove duplicate data\n",
    "* to impute or remove missing data\n",
    "* to remove data inconsistencies <br>\n",
    "Give detailed explanation for each column how you handle the data quality issues.\n"
   ]
  },
  {
   "cell_type": "markdown",
   "metadata": {},
   "source": [
    "### Task 1:- to remove duplicate data"
   ]
  },
  {
   "cell_type": "code",
   "execution_count": 172,
   "metadata": {},
   "outputs": [
    {
     "name": "stdout",
     "output_type": "stream",
     "text": [
      "Total no. of rows:-                        4800 \n",
      "Total no of duplicate records count:-      491\n",
      "Total No. of Unique or unduplicated rows:- 4309\n"
     ]
    }
   ],
   "source": [
    "# removing duplicate records\n",
    "print(\"Total no. of rows:-                        {} \".format(dataSet.shape[0:2][0]))\n",
    "print(\"Total no of duplicate records count:-      {}\".format(duplicateValue_Count))\n",
    "dataSet = dataSet.drop_duplicates(subset=None,keep='first')\n",
    "print(\"Total No. of Unique or unduplicated rows:- {}\".format(dataSet.shape[0]))"
   ]
  },
  {
   "cell_type": "markdown",
   "metadata": {},
   "source": [
    "### Task 2 :- to impute or remove missing data"
   ]
  },
  {
   "cell_type": "code",
   "execution_count": 173,
   "metadata": {},
   "outputs": [
    {
     "name": "stdout",
     "output_type": "stream",
     "text": [
      "Body Color attribute mode:- Black\n"
     ]
    }
   ],
   "source": [
    "# Handling & imputing missing values for \"Body Color\" attribute\n",
    "# calculating mode of \"Body Colorl\" attribute as this is categorical values\n",
    "print(\"Body Color attribute mode:- {}\".format(dataSet['Body Color'].mode()[0]))"
   ]
  },
  {
   "cell_type": "code",
   "execution_count": 174,
   "metadata": {},
   "outputs": [],
   "source": [
    "# Imputing missing values by mode for \"Body Color\" attribute\n",
    "BodyColor_mode=dataSet['Body Color'].mode()[0]\n",
    "dataSet['Body Color'].fillna(BodyColor_mode,inplace=True)"
   ]
  },
  {
   "cell_type": "code",
   "execution_count": 175,
   "metadata": {
    "scrolled": true
   },
   "outputs": [
    {
     "data": {
      "text/plain": [
       "4606    Black\n",
       "4607    Black\n",
       "4608    Black\n",
       "4609    Black\n",
       "Name: Body Color, dtype: category\n",
       "Categories (13, object): ['Beige', 'Black', 'Blue', 'Bronze', ..., 'Silver', 'Violet', 'White', 'Yellow']"
      ]
     },
     "execution_count": 175,
     "metadata": {},
     "output_type": "execute_result"
    }
   ],
   "source": [
    "# Verifing that missing values of 'Body Color' attribute filled with mode \n",
    "dataSet['Body Color'].loc[BodyColor_nullValues_index]"
   ]
  },
  {
   "cell_type": "code",
   "execution_count": 176,
   "metadata": {},
   "outputs": [
    {
     "name": "stdout",
     "output_type": "stream",
     "text": [
      "km attribute mean:- 33010.0\n"
     ]
    }
   ],
   "source": [
    "# Handling & imputing missing values for \"km\" attribute\n",
    "# calculating mean of \"km\" attribute as this is numerical values\n",
    "print(\"km attribute mean:- {}\".format(round(dataSet['km'].mean(),0)))"
   ]
  },
  {
   "cell_type": "code",
   "execution_count": 177,
   "metadata": {},
   "outputs": [],
   "source": [
    "# Imputing missing values by mean for \"km\" attribute\n",
    "km_mean=round(dataSet['km'].mean())\n",
    "dataSet['km'].fillna(km_mean,inplace=True)"
   ]
  },
  {
   "cell_type": "code",
   "execution_count": 178,
   "metadata": {},
   "outputs": [
    {
     "data": {
      "text/plain": [
       "4636    33010.0\n",
       "4637    33010.0\n",
       "4638    33010.0\n",
       "Name: km, dtype: float64"
      ]
     },
     "execution_count": 178,
     "metadata": {},
     "output_type": "execute_result"
    }
   ],
   "source": [
    "# Verifing that missing values of 'km' attribute filled with mode \n",
    "dataSet['km'].loc[km_nullValues_index]"
   ]
  },
  {
   "cell_type": "code",
   "execution_count": 179,
   "metadata": {},
   "outputs": [
    {
     "data": {
      "text/plain": [
       "make_model      0\n",
       "body_type       0\n",
       "Body Color      0\n",
       "km              0\n",
       "Gearing Type    0\n",
       "Extras          0\n",
       "price           0\n",
       "dtype: int64"
      ]
     },
     "execution_count": 179,
     "metadata": {},
     "output_type": "execute_result"
    }
   ],
   "source": [
    "#Verifying that there is no missing values in dataset after imputing missing values\n",
    "dataSet.isnull().sum()"
   ]
  },
  {
   "cell_type": "code",
   "execution_count": 180,
   "metadata": {},
   "outputs": [
    {
     "data": {
      "text/plain": [
       "(4309, 7)"
      ]
     },
     "execution_count": 180,
     "metadata": {},
     "output_type": "execute_result"
    }
   ],
   "source": [
    "dataSet.shape[0:2]"
   ]
  },
  {
   "cell_type": "code",
   "execution_count": 181,
   "metadata": {},
   "outputs": [
    {
     "data": {
      "text/html": [
       "<div>\n",
       "<style scoped>\n",
       "    .dataframe tbody tr th:only-of-type {\n",
       "        vertical-align: middle;\n",
       "    }\n",
       "\n",
       "    .dataframe tbody tr th {\n",
       "        vertical-align: top;\n",
       "    }\n",
       "\n",
       "    .dataframe thead th {\n",
       "        text-align: right;\n",
       "    }\n",
       "</style>\n",
       "<table border=\"1\" class=\"dataframe\">\n",
       "  <thead>\n",
       "    <tr style=\"text-align: right;\">\n",
       "      <th></th>\n",
       "      <th>make_model</th>\n",
       "      <th>body_type</th>\n",
       "      <th>Body Color</th>\n",
       "      <th>km</th>\n",
       "      <th>Gearing Type</th>\n",
       "      <th>Extras</th>\n",
       "      <th>price</th>\n",
       "    </tr>\n",
       "  </thead>\n",
       "  <tbody>\n",
       "    <tr>\n",
       "      <th>24</th>\n",
       "      <td>Audi A1</td>\n",
       "      <td>Sedans</td>\n",
       "      <td>White</td>\n",
       "      <td>115000.0</td>\n",
       "      <td>Manual</td>\n",
       "      <td>Others</td>\n",
       "      <td>8999</td>\n",
       "    </tr>\n",
       "    <tr>\n",
       "      <th>32</th>\n",
       "      <td>Audi A1</td>\n",
       "      <td>Sedans</td>\n",
       "      <td>White</td>\n",
       "      <td>126000.0</td>\n",
       "      <td>Manual</td>\n",
       "      <td>Others</td>\n",
       "      <td>11900</td>\n",
       "    </tr>\n",
       "    <tr>\n",
       "      <th>59</th>\n",
       "      <td>Audi A1</td>\n",
       "      <td>Sedans</td>\n",
       "      <td>Black</td>\n",
       "      <td>192000.0</td>\n",
       "      <td>Manual</td>\n",
       "      <td>Others</td>\n",
       "      <td>10000</td>\n",
       "    </tr>\n",
       "    <tr>\n",
       "      <th>60</th>\n",
       "      <td>Audi A1</td>\n",
       "      <td>Compact</td>\n",
       "      <td>White</td>\n",
       "      <td>130000.0</td>\n",
       "      <td>Manual</td>\n",
       "      <td>Others</td>\n",
       "      <td>10490</td>\n",
       "    </tr>\n",
       "    <tr>\n",
       "      <th>291</th>\n",
       "      <td>Audi A1</td>\n",
       "      <td>Compact</td>\n",
       "      <td>Blue</td>\n",
       "      <td>137066.0</td>\n",
       "      <td>Automatic</td>\n",
       "      <td>Sport</td>\n",
       "      <td>14998</td>\n",
       "    </tr>\n",
       "    <tr>\n",
       "      <th>...</th>\n",
       "      <td>...</td>\n",
       "      <td>...</td>\n",
       "      <td>...</td>\n",
       "      <td>...</td>\n",
       "      <td>...</td>\n",
       "      <td>...</td>\n",
       "      <td>...</td>\n",
       "    </tr>\n",
       "    <tr>\n",
       "      <th>3682</th>\n",
       "      <td>Audi A3</td>\n",
       "      <td>Station wagon</td>\n",
       "      <td>Black</td>\n",
       "      <td>139879.0</td>\n",
       "      <td>Manual</td>\n",
       "      <td>Sport</td>\n",
       "      <td>16900</td>\n",
       "    </tr>\n",
       "    <tr>\n",
       "      <th>3684</th>\n",
       "      <td>Audi A3</td>\n",
       "      <td>Sedans</td>\n",
       "      <td>Black</td>\n",
       "      <td>131900.0</td>\n",
       "      <td>Manual</td>\n",
       "      <td>Sport</td>\n",
       "      <td>16888</td>\n",
       "    </tr>\n",
       "    <tr>\n",
       "      <th>3686</th>\n",
       "      <td>Audi A3</td>\n",
       "      <td>Station wagon</td>\n",
       "      <td>White</td>\n",
       "      <td>115000.0</td>\n",
       "      <td>Manual</td>\n",
       "      <td>Sport</td>\n",
       "      <td>16900</td>\n",
       "    </tr>\n",
       "    <tr>\n",
       "      <th>3687</th>\n",
       "      <td>Audi A3</td>\n",
       "      <td>Sedans</td>\n",
       "      <td>White</td>\n",
       "      <td>127000.0</td>\n",
       "      <td>Manual</td>\n",
       "      <td>Others</td>\n",
       "      <td>16900</td>\n",
       "    </tr>\n",
       "    <tr>\n",
       "      <th>3695</th>\n",
       "      <td>Audi A3</td>\n",
       "      <td>Sedans</td>\n",
       "      <td>White</td>\n",
       "      <td>114550.0</td>\n",
       "      <td>Manual</td>\n",
       "      <td>Sport</td>\n",
       "      <td>19797</td>\n",
       "    </tr>\n",
       "  </tbody>\n",
       "</table>\n",
       "<p>188 rows × 7 columns</p>\n",
       "</div>"
      ],
      "text/plain": [
       "     make_model      body_type Body Color        km Gearing Type  Extras  \\\n",
       "24      Audi A1         Sedans      White  115000.0       Manual  Others   \n",
       "32      Audi A1         Sedans      White  126000.0       Manual  Others   \n",
       "59      Audi A1         Sedans      Black  192000.0       Manual  Others   \n",
       "60      Audi A1        Compact      White  130000.0       Manual  Others   \n",
       "291     Audi A1        Compact       Blue  137066.0    Automatic   Sport   \n",
       "...         ...            ...        ...       ...          ...     ...   \n",
       "3682    Audi A3  Station wagon      Black  139879.0       Manual   Sport   \n",
       "3684    Audi A3         Sedans      Black  131900.0       Manual   Sport   \n",
       "3686    Audi A3  Station wagon      White  115000.0       Manual   Sport   \n",
       "3687    Audi A3         Sedans      White  127000.0       Manual  Others   \n",
       "3695    Audi A3         Sedans      White  114550.0       Manual   Sport   \n",
       "\n",
       "      price  \n",
       "24     8999  \n",
       "32    11900  \n",
       "59    10000  \n",
       "60    10490  \n",
       "291   14998  \n",
       "...     ...  \n",
       "3682  16900  \n",
       "3684  16888  \n",
       "3686  16900  \n",
       "3687  16900  \n",
       "3695  19797  \n",
       "\n",
       "[188 rows x 7 columns]"
      ]
     },
     "execution_count": 181,
     "metadata": {},
     "output_type": "execute_result"
    }
   ],
   "source": [
    "# checking outliers records in 'km' features\n",
    "dataSet[(dataSet['km']<=lower_value_km) | (dataSet['km']>=upper_value_km)]"
   ]
  },
  {
   "cell_type": "code",
   "execution_count": 182,
   "metadata": {},
   "outputs": [],
   "source": [
    "# removing outliers records in 'km' features\n",
    "dataSet_without_outliers=dataSet[(dataSet['km']>=lower_value_km) & (dataSet['km']<=upper_value_km)]"
   ]
  },
  {
   "cell_type": "code",
   "execution_count": 183,
   "metadata": {},
   "outputs": [
    {
     "data": {
      "text/html": [
       "<div>\n",
       "<style scoped>\n",
       "    .dataframe tbody tr th:only-of-type {\n",
       "        vertical-align: middle;\n",
       "    }\n",
       "\n",
       "    .dataframe tbody tr th {\n",
       "        vertical-align: top;\n",
       "    }\n",
       "\n",
       "    .dataframe thead th {\n",
       "        text-align: right;\n",
       "    }\n",
       "</style>\n",
       "<table border=\"1\" class=\"dataframe\">\n",
       "  <thead>\n",
       "    <tr style=\"text-align: right;\">\n",
       "      <th></th>\n",
       "      <th>make_model</th>\n",
       "      <th>body_type</th>\n",
       "      <th>Body Color</th>\n",
       "      <th>km</th>\n",
       "      <th>Gearing Type</th>\n",
       "      <th>Extras</th>\n",
       "      <th>price</th>\n",
       "    </tr>\n",
       "  </thead>\n",
       "  <tbody>\n",
       "  </tbody>\n",
       "</table>\n",
       "</div>"
      ],
      "text/plain": [
       "Empty DataFrame\n",
       "Columns: [make_model, body_type, Body Color, km, Gearing Type, Extras, price]\n",
       "Index: []"
      ]
     },
     "execution_count": 183,
     "metadata": {},
     "output_type": "execute_result"
    }
   ],
   "source": [
    "# # checking that outliers records are removed in 'km' features\n",
    "dataSet_without_outliers[(dataSet['km']<=lower_value_km) | (dataSet['km']>=upper_value_km)]"
   ]
  },
  {
   "cell_type": "code",
   "execution_count": 184,
   "metadata": {},
   "outputs": [
    {
     "data": {
      "text/plain": [
       "Text(0.5, 1.0, 'km Distribution with skewness: 1.1')"
      ]
     },
     "execution_count": 184,
     "metadata": {},
     "output_type": "execute_result"
    },
    {
     "data": {
      "image/png": "[encoded data removed]",
      "text/plain": [
       "<Figure size 1500x1500 with 1 Axes>"
      ]
     },
     "metadata": {},
     "output_type": "display_data"
    }
   ],
   "source": [
    "#Histogram Plot for Numerical column \"km\" \n",
    "plt.figure(figsize=(15,15))\n",
    "plt.subplot(2,2,1)\n",
    "sbn.histplot(dataSet_without_outliers['km'],bins=25,kde=True)\n",
    "skewness = round(dataSet_without_outliers['km'].skew(),1)\n",
    "plt.title(f\"km Distribution with skewness: {skewness}\")"
   ]
  },
  {
   "cell_type": "markdown",
   "metadata": {},
   "source": [
    "### Standardise the data (1M)\n",
    "Standardization is the process of transforming data into a common format which you to make the meaningful comparison."
   ]
  },
  {
   "cell_type": "markdown",
   "metadata": {},
   "source": [
    "##### Obervation:- \n",
    "In car_pricing_prediction dataset 'km' is numerical attribute which does not show normal distribution as per above histogram plot.hence standardization has not been applied on dataset"
   ]
  },
  {
   "cell_type": "markdown",
   "metadata": {},
   "source": [
    "### Normalise the data wherever necessary(1M)"
   ]
  },
  {
   "cell_type": "code",
   "execution_count": 185,
   "metadata": {},
   "outputs": [
    {
     "name": "stdout",
     "output_type": "stream",
     "text": [
      "  make_model body_type Body Color        km Gearing Type     Extras  price\n",
      "0    Audi A1    Sedans      Black  0.500116    Automatic  Converter  15770\n",
      "1    Audi A1    Sedans        Red  0.714286    Automatic      Sport  14500\n",
      "2    Audi A1    Sedans      Black  0.745089    Automatic     Others  14640\n",
      "3    Audi A1    Sedans      Brown  0.651786    Automatic      Sport  14500\n",
      "4    Audi A1    Sedans      Black  0.144643    Automatic      Sport  16790\n"
     ]
    }
   ],
   "source": [
    "# Min Max Scaler is used to perform normalization only for one numerical varaibles which is km, \n",
    "# and hp attribute is alredy dropped as 'hp' attribute has no variation \n",
    "# and  pricing is a target varaible in dataset \n",
    "# hence normalization has not been applied on hp & pricing\n",
    "#importing MinMaxScaler library\n",
    "from sklearn.preprocessing import MinMaxScaler\n",
    "# taking list of all numerocal attributes\n",
    "numerical_attributes_list = ['km']\n",
    "scalling=MinMaxScaler()\n",
    "dataSet_without_outliers[numerical_attributes_list] = scalling.fit_transform(dataSet_without_outliers[numerical_attributes_list])\n",
    "print(dataSet_without_outliers.head())"
   ]
  },
  {
   "cell_type": "markdown",
   "metadata": {},
   "source": [
    "### Perform Binning (1M)\n",
    "Binning is a process of transforming continuous numerical variables into discrete categorical 'bins', for grouped analysis."
   ]
  },
  {
   "cell_type": "code",
   "execution_count": 186,
   "metadata": {},
   "outputs": [
    {
     "name": "stdout",
     "output_type": "stream",
     "text": [
      "Maximum of km by Bin :- km_binned\n",
      "0     0.049875\n",
      "1     0.100000\n",
      "2     0.150000\n",
      "3     0.199955\n",
      "4     0.250000\n",
      "5     0.299107\n",
      "6     0.350000\n",
      "7     0.399732\n",
      "8     0.448929\n",
      "9     0.500000\n",
      "10    0.549839\n",
      "11    0.598929\n",
      "12    0.649652\n",
      "13    0.699813\n",
      "14    0.749589\n",
      "15    0.799679\n",
      "16    0.848884\n",
      "17    0.898384\n",
      "18    0.950000\n",
      "19    1.000000\n",
      "Name: km, dtype: float64\n",
      "Minimum of km by Bin :- km_binned\n",
      "0     0.000000\n",
      "1     0.050009\n",
      "2     0.100045\n",
      "3     0.150179\n",
      "4     0.200179\n",
      "5     0.250348\n",
      "6     0.301339\n",
      "7     0.350411\n",
      "8     0.400714\n",
      "9     0.450330\n",
      "10    0.500116\n",
      "11    0.550188\n",
      "12    0.600696\n",
      "13    0.651152\n",
      "14    0.700893\n",
      "15    0.750000\n",
      "16    0.801893\n",
      "17    0.850313\n",
      "18    0.900286\n",
      "19    0.952286\n",
      "Name: km, dtype: float64\n",
      "Maximum of price by Bin :- price_binned\n",
      "0      5555\n",
      "1     10600\n",
      "2     13100\n",
      "3     15660\n",
      "4     18185\n",
      "5     20700\n",
      "6     23240\n",
      "7     25750\n",
      "8     28300\n",
      "9     30000\n",
      "10    33250\n",
      "11    35500\n",
      "12    38000\n",
      "13    39575\n",
      "14    41495\n",
      "19    56100\n",
      "Name: price, dtype: int64\n",
      "Minimum of price by Bin :- price_binned\n",
      "0      5555\n",
      "1     10300\n",
      "2     10800\n",
      "3     13200\n",
      "4     15667\n",
      "5     18200\n",
      "6     20730\n",
      "7     23250\n",
      "8     25780\n",
      "9     28390\n",
      "10    30900\n",
      "11    33800\n",
      "12    35900\n",
      "13    38495\n",
      "14    41495\n",
      "19    56100\n",
      "Name: price, dtype: int64\n"
     ]
    }
   ],
   "source": [
    "#Binning of 'km'\n",
    "dataSet_without_outliers['km_binned'] = pd.cut(dataSet_without_outliers['km'], bins=20, labels=False)\n",
    "print(f'Maximum of km by Bin :- {dataSet_without_outliers.groupby(\"km_binned\")[\"km\"].max()}')\n",
    "print(f'Minimum of km by Bin :- {dataSet_without_outliers.groupby(\"km_binned\")[\"km\"].min()}')\n",
    "\n",
    "#Binning of 'pricing'\n",
    "dataSet_without_outliers['price_binned'] = pd.cut(dataSet_without_outliers['price'], bins=20, labels=False)\n",
    "print(f'Maximum of price by Bin :- {dataSet_without_outliers.groupby(\"price_binned\")[\"price\"].max()}')\n",
    "print(f'Minimum of price by Bin :- {dataSet_without_outliers.groupby(\"price_binned\")[\"price\"].min()}')"
   ]
  },
  {
   "cell_type": "code",
   "execution_count": 187,
   "metadata": {},
   "outputs": [
    {
     "data": {
      "text/html": [
       "<div>\n",
       "<style scoped>\n",
       "    .dataframe tbody tr th:only-of-type {\n",
       "        vertical-align: middle;\n",
       "    }\n",
       "\n",
       "    .dataframe tbody tr th {\n",
       "        vertical-align: top;\n",
       "    }\n",
       "\n",
       "    .dataframe thead th {\n",
       "        text-align: right;\n",
       "    }\n",
       "</style>\n",
       "<table border=\"1\" class=\"dataframe\">\n",
       "  <thead>\n",
       "    <tr style=\"text-align: right;\">\n",
       "      <th></th>\n",
       "      <th>make_model</th>\n",
       "      <th>body_type</th>\n",
       "      <th>Body Color</th>\n",
       "      <th>km</th>\n",
       "      <th>Gearing Type</th>\n",
       "      <th>Extras</th>\n",
       "      <th>price</th>\n",
       "      <th>km_binned</th>\n",
       "      <th>price_binned</th>\n",
       "    </tr>\n",
       "  </thead>\n",
       "  <tbody>\n",
       "    <tr>\n",
       "      <th>0</th>\n",
       "      <td>Audi A1</td>\n",
       "      <td>Sedans</td>\n",
       "      <td>Black</td>\n",
       "      <td>0.500116</td>\n",
       "      <td>Automatic</td>\n",
       "      <td>Converter</td>\n",
       "      <td>15770</td>\n",
       "      <td>10</td>\n",
       "      <td>4</td>\n",
       "    </tr>\n",
       "    <tr>\n",
       "      <th>1</th>\n",
       "      <td>Audi A1</td>\n",
       "      <td>Sedans</td>\n",
       "      <td>Red</td>\n",
       "      <td>0.714286</td>\n",
       "      <td>Automatic</td>\n",
       "      <td>Sport</td>\n",
       "      <td>14500</td>\n",
       "      <td>14</td>\n",
       "      <td>3</td>\n",
       "    </tr>\n",
       "    <tr>\n",
       "      <th>2</th>\n",
       "      <td>Audi A1</td>\n",
       "      <td>Sedans</td>\n",
       "      <td>Black</td>\n",
       "      <td>0.745089</td>\n",
       "      <td>Automatic</td>\n",
       "      <td>Others</td>\n",
       "      <td>14640</td>\n",
       "      <td>14</td>\n",
       "      <td>3</td>\n",
       "    </tr>\n",
       "    <tr>\n",
       "      <th>3</th>\n",
       "      <td>Audi A1</td>\n",
       "      <td>Sedans</td>\n",
       "      <td>Brown</td>\n",
       "      <td>0.651786</td>\n",
       "      <td>Automatic</td>\n",
       "      <td>Sport</td>\n",
       "      <td>14500</td>\n",
       "      <td>13</td>\n",
       "      <td>3</td>\n",
       "    </tr>\n",
       "    <tr>\n",
       "      <th>4</th>\n",
       "      <td>Audi A1</td>\n",
       "      <td>Sedans</td>\n",
       "      <td>Black</td>\n",
       "      <td>0.144643</td>\n",
       "      <td>Automatic</td>\n",
       "      <td>Sport</td>\n",
       "      <td>16790</td>\n",
       "      <td>2</td>\n",
       "      <td>4</td>\n",
       "    </tr>\n",
       "    <tr>\n",
       "      <th>...</th>\n",
       "      <td>...</td>\n",
       "      <td>...</td>\n",
       "      <td>...</td>\n",
       "      <td>...</td>\n",
       "      <td>...</td>\n",
       "      <td>...</td>\n",
       "      <td>...</td>\n",
       "      <td>...</td>\n",
       "      <td>...</td>\n",
       "    </tr>\n",
       "    <tr>\n",
       "      <th>4793</th>\n",
       "      <td>Audi A3</td>\n",
       "      <td>Sedans</td>\n",
       "      <td>Red</td>\n",
       "      <td>0.000089</td>\n",
       "      <td>Manual</td>\n",
       "      <td>Sport</td>\n",
       "      <td>24987</td>\n",
       "      <td>0</td>\n",
       "      <td>7</td>\n",
       "    </tr>\n",
       "    <tr>\n",
       "      <th>4794</th>\n",
       "      <td>Audi A3</td>\n",
       "      <td>Sedans</td>\n",
       "      <td>Silver</td>\n",
       "      <td>0.000089</td>\n",
       "      <td>Manual</td>\n",
       "      <td>Others</td>\n",
       "      <td>24980</td>\n",
       "      <td>0</td>\n",
       "      <td>7</td>\n",
       "    </tr>\n",
       "    <tr>\n",
       "      <th>4795</th>\n",
       "      <td>Audi A3</td>\n",
       "      <td>Sedans</td>\n",
       "      <td>White</td>\n",
       "      <td>0.000482</td>\n",
       "      <td>Manual</td>\n",
       "      <td>Sport</td>\n",
       "      <td>25000</td>\n",
       "      <td>0</td>\n",
       "      <td>7</td>\n",
       "    </tr>\n",
       "    <tr>\n",
       "      <th>4796</th>\n",
       "      <td>Audi A3</td>\n",
       "      <td>Sedans</td>\n",
       "      <td>White</td>\n",
       "      <td>0.000446</td>\n",
       "      <td>Manual</td>\n",
       "      <td>Others</td>\n",
       "      <td>24980</td>\n",
       "      <td>0</td>\n",
       "      <td>7</td>\n",
       "    </tr>\n",
       "    <tr>\n",
       "      <th>4797</th>\n",
       "      <td>Audi A3</td>\n",
       "      <td>Station wagon</td>\n",
       "      <td>Silver</td>\n",
       "      <td>0.059518</td>\n",
       "      <td>Manual</td>\n",
       "      <td>Others</td>\n",
       "      <td>24980</td>\n",
       "      <td>1</td>\n",
       "      <td>7</td>\n",
       "    </tr>\n",
       "  </tbody>\n",
       "</table>\n",
       "<p>4121 rows × 9 columns</p>\n",
       "</div>"
      ],
      "text/plain": [
       "     make_model      body_type Body Color        km Gearing Type     Extras  \\\n",
       "0       Audi A1         Sedans      Black  0.500116    Automatic  Converter   \n",
       "1       Audi A1         Sedans        Red  0.714286    Automatic      Sport   \n",
       "2       Audi A1         Sedans      Black  0.745089    Automatic     Others   \n",
       "3       Audi A1         Sedans      Brown  0.651786    Automatic      Sport   \n",
       "4       Audi A1         Sedans      Black  0.144643    Automatic      Sport   \n",
       "...         ...            ...        ...       ...          ...        ...   \n",
       "4793    Audi A3         Sedans        Red  0.000089       Manual      Sport   \n",
       "4794    Audi A3         Sedans     Silver  0.000089       Manual     Others   \n",
       "4795    Audi A3         Sedans      White  0.000482       Manual      Sport   \n",
       "4796    Audi A3         Sedans      White  0.000446       Manual     Others   \n",
       "4797    Audi A3  Station wagon     Silver  0.059518       Manual     Others   \n",
       "\n",
       "      price  km_binned  price_binned  \n",
       "0     15770         10             4  \n",
       "1     14500         14             3  \n",
       "2     14640         14             3  \n",
       "3     14500         13             3  \n",
       "4     16790          2             4  \n",
       "...     ...        ...           ...  \n",
       "4793  24987          0             7  \n",
       "4794  24980          0             7  \n",
       "4795  25000          0             7  \n",
       "4796  24980          0             7  \n",
       "4797  24980          1             7  \n",
       "\n",
       "[4121 rows x 9 columns]"
      ]
     },
     "execution_count": 187,
     "metadata": {},
     "output_type": "execute_result"
    }
   ],
   "source": [
    "dataSet_without_outliers"
   ]
  },
  {
   "cell_type": "markdown",
   "metadata": {},
   "source": [
    "### Perform encoding (1M)"
   ]
  },
  {
   "cell_type": "code",
   "execution_count": 188,
   "metadata": {},
   "outputs": [],
   "source": [
    "# importing LabelEncoder package\n",
    "from sklearn.preprocessing import LabelEncoder\n",
    "label_encoder = LabelEncoder()\n",
    "categorical = ['make_model', 'body_type', 'Body Color','Gearing Type','Extras']\n",
    "for feature in categorical:\n",
    "        le = LabelEncoder()\n",
    "        dataSet_without_outliers[feature] = le.fit_transform(dataSet_without_outliers[feature])"
   ]
  },
  {
   "cell_type": "code",
   "execution_count": 189,
   "metadata": {},
   "outputs": [
    {
     "data": {
      "text/html": [
       "<div>\n",
       "<style scoped>\n",
       "    .dataframe tbody tr th:only-of-type {\n",
       "        vertical-align: middle;\n",
       "    }\n",
       "\n",
       "    .dataframe tbody tr th {\n",
       "        vertical-align: top;\n",
       "    }\n",
       "\n",
       "    .dataframe thead th {\n",
       "        text-align: right;\n",
       "    }\n",
       "</style>\n",
       "<table border=\"1\" class=\"dataframe\">\n",
       "  <thead>\n",
       "    <tr style=\"text-align: right;\">\n",
       "      <th></th>\n",
       "      <th>make_model</th>\n",
       "      <th>body_type</th>\n",
       "      <th>Body Color</th>\n",
       "      <th>km</th>\n",
       "      <th>Gearing Type</th>\n",
       "      <th>Extras</th>\n",
       "      <th>price</th>\n",
       "      <th>km_binned</th>\n",
       "      <th>price_binned</th>\n",
       "    </tr>\n",
       "  </thead>\n",
       "  <tbody>\n",
       "    <tr>\n",
       "      <th>0</th>\n",
       "      <td>0</td>\n",
       "      <td>5</td>\n",
       "      <td>1</td>\n",
       "      <td>0.500116</td>\n",
       "      <td>0</td>\n",
       "      <td>0</td>\n",
       "      <td>15770</td>\n",
       "      <td>10</td>\n",
       "      <td>4</td>\n",
       "    </tr>\n",
       "    <tr>\n",
       "      <th>1</th>\n",
       "      <td>0</td>\n",
       "      <td>5</td>\n",
       "      <td>8</td>\n",
       "      <td>0.714286</td>\n",
       "      <td>0</td>\n",
       "      <td>2</td>\n",
       "      <td>14500</td>\n",
       "      <td>14</td>\n",
       "      <td>3</td>\n",
       "    </tr>\n",
       "    <tr>\n",
       "      <th>2</th>\n",
       "      <td>0</td>\n",
       "      <td>5</td>\n",
       "      <td>1</td>\n",
       "      <td>0.745089</td>\n",
       "      <td>0</td>\n",
       "      <td>1</td>\n",
       "      <td>14640</td>\n",
       "      <td>14</td>\n",
       "      <td>3</td>\n",
       "    </tr>\n",
       "    <tr>\n",
       "      <th>3</th>\n",
       "      <td>0</td>\n",
       "      <td>5</td>\n",
       "      <td>4</td>\n",
       "      <td>0.651786</td>\n",
       "      <td>0</td>\n",
       "      <td>2</td>\n",
       "      <td>14500</td>\n",
       "      <td>13</td>\n",
       "      <td>3</td>\n",
       "    </tr>\n",
       "    <tr>\n",
       "      <th>4</th>\n",
       "      <td>0</td>\n",
       "      <td>5</td>\n",
       "      <td>1</td>\n",
       "      <td>0.144643</td>\n",
       "      <td>0</td>\n",
       "      <td>2</td>\n",
       "      <td>16790</td>\n",
       "      <td>2</td>\n",
       "      <td>4</td>\n",
       "    </tr>\n",
       "    <tr>\n",
       "      <th>...</th>\n",
       "      <td>...</td>\n",
       "      <td>...</td>\n",
       "      <td>...</td>\n",
       "      <td>...</td>\n",
       "      <td>...</td>\n",
       "      <td>...</td>\n",
       "      <td>...</td>\n",
       "      <td>...</td>\n",
       "      <td>...</td>\n",
       "    </tr>\n",
       "    <tr>\n",
       "      <th>4793</th>\n",
       "      <td>2</td>\n",
       "      <td>5</td>\n",
       "      <td>8</td>\n",
       "      <td>0.000089</td>\n",
       "      <td>1</td>\n",
       "      <td>2</td>\n",
       "      <td>24987</td>\n",
       "      <td>0</td>\n",
       "      <td>7</td>\n",
       "    </tr>\n",
       "    <tr>\n",
       "      <th>4794</th>\n",
       "      <td>2</td>\n",
       "      <td>5</td>\n",
       "      <td>9</td>\n",
       "      <td>0.000089</td>\n",
       "      <td>1</td>\n",
       "      <td>1</td>\n",
       "      <td>24980</td>\n",
       "      <td>0</td>\n",
       "      <td>7</td>\n",
       "    </tr>\n",
       "    <tr>\n",
       "      <th>4795</th>\n",
       "      <td>2</td>\n",
       "      <td>5</td>\n",
       "      <td>11</td>\n",
       "      <td>0.000482</td>\n",
       "      <td>1</td>\n",
       "      <td>2</td>\n",
       "      <td>25000</td>\n",
       "      <td>0</td>\n",
       "      <td>7</td>\n",
       "    </tr>\n",
       "    <tr>\n",
       "      <th>4796</th>\n",
       "      <td>2</td>\n",
       "      <td>5</td>\n",
       "      <td>11</td>\n",
       "      <td>0.000446</td>\n",
       "      <td>1</td>\n",
       "      <td>1</td>\n",
       "      <td>24980</td>\n",
       "      <td>0</td>\n",
       "      <td>7</td>\n",
       "    </tr>\n",
       "    <tr>\n",
       "      <th>4797</th>\n",
       "      <td>2</td>\n",
       "      <td>6</td>\n",
       "      <td>9</td>\n",
       "      <td>0.059518</td>\n",
       "      <td>1</td>\n",
       "      <td>1</td>\n",
       "      <td>24980</td>\n",
       "      <td>1</td>\n",
       "      <td>7</td>\n",
       "    </tr>\n",
       "  </tbody>\n",
       "</table>\n",
       "<p>4121 rows × 9 columns</p>\n",
       "</div>"
      ],
      "text/plain": [
       "      make_model  body_type  Body Color        km  Gearing Type  Extras  \\\n",
       "0              0          5           1  0.500116             0       0   \n",
       "1              0          5           8  0.714286             0       2   \n",
       "2              0          5           1  0.745089             0       1   \n",
       "3              0          5           4  0.651786             0       2   \n",
       "4              0          5           1  0.144643             0       2   \n",
       "...          ...        ...         ...       ...           ...     ...   \n",
       "4793           2          5           8  0.000089             1       2   \n",
       "4794           2          5           9  0.000089             1       1   \n",
       "4795           2          5          11  0.000482             1       2   \n",
       "4796           2          5          11  0.000446             1       1   \n",
       "4797           2          6           9  0.059518             1       1   \n",
       "\n",
       "      price  km_binned  price_binned  \n",
       "0     15770         10             4  \n",
       "1     14500         14             3  \n",
       "2     14640         14             3  \n",
       "3     14500         13             3  \n",
       "4     16790          2             4  \n",
       "...     ...        ...           ...  \n",
       "4793  24987          0             7  \n",
       "4794  24980          0             7  \n",
       "4795  25000          0             7  \n",
       "4796  24980          0             7  \n",
       "4797  24980          1             7  \n",
       "\n",
       "[4121 rows x 9 columns]"
      ]
     },
     "execution_count": 189,
     "metadata": {},
     "output_type": "execute_result"
    }
   ],
   "source": [
    "dataSet_without_outliers"
   ]
  },
  {
   "cell_type": "markdown",
   "metadata": {},
   "source": [
    "### Perform Data Discretization(2M)"
   ]
  },
  {
   "cell_type": "markdown",
   "metadata": {},
   "source": [
    "#### Not required as alredy performed binning process ."
   ]
  },
  {
   "cell_type": "markdown",
   "metadata": {},
   "source": [
    "### EDA using Visuals(3M)\n",
    "Use any 3 or more visualisation methods (Boxplot,Scatterplot,histogram,....etc) to perform Exploratory data analysis and briefly give interpretations from each visual.\n"
   ]
  },
  {
   "cell_type": "markdown",
   "metadata": {},
   "source": [
    "#### (a) Library Import"
   ]
  },
  {
   "cell_type": "code",
   "execution_count": 190,
   "metadata": {},
   "outputs": [],
   "source": [
    "# importing required package\n",
    "# importing required packages\n",
    "import numpy as np\n",
    "import pandas as pd\n",
    "import matplotlib.pyplot as plt\n",
    "import seaborn as sbn\n",
    "import warnings as wrn\n",
    "from datetime import datetime\n",
    "wrn.filterwarnings('ignore')"
   ]
  },
  {
   "cell_type": "markdown",
   "metadata": {},
   "source": [
    "#### (b) Read DataSet"
   ]
  },
  {
   "cell_type": "code",
   "execution_count": 191,
   "metadata": {},
   "outputs": [],
   "source": [
    "# defining dataSet github raw url for csv dataSet file\n",
    "github_filePath=\"https://raw.githubusercontent.com/shreenath197/car_pricing_dataSet/main/car_price.csv\"\n",
    "# loading dataSet\n",
    "dataSet=pd.read_csv(github_filePath)"
   ]
  },
  {
   "cell_type": "markdown",
   "metadata": {},
   "source": [
    "#### (c) Incpect the data"
   ]
  },
  {
   "cell_type": "code",
   "execution_count": 192,
   "metadata": {},
   "outputs": [
    {
     "name": "stdout",
     "output_type": "stream",
     "text": [
      "  make_model body_type Body Color       km Gearing Type     Extras  price\n",
      "0    Audi A1    Sedans      Black  56013.0    Automatic  Converter  15770\n",
      "1    Audi A1    Sedans        Red  80000.0    Automatic      Sport  14500\n",
      "2    Audi A1    Sedans      Black  83450.0    Automatic     Others  14640\n",
      "3    Audi A1    Sedans      Brown  73000.0    Automatic      Sport  14500\n",
      "4    Audi A1    Sedans      Black  16200.0    Automatic      Sport  16790\n",
      "                  km         price\n",
      "count    4797.000000   4800.000000\n",
      "mean    31931.949135  19722.871875\n",
      "std     35902.589244   4337.519969\n",
      "min         0.000000   5555.000000\n",
      "25%      4800.000000  15990.000000\n",
      "50%     20049.000000  19588.000000\n",
      "75%     47800.000000  22692.500000\n",
      "max    291800.000000  56100.000000\n",
      "<class 'pandas.core.frame.DataFrame'>\n",
      "RangeIndex: 4800 entries, 0 to 4799\n",
      "Data columns (total 7 columns):\n",
      " #   Column        Non-Null Count  Dtype  \n",
      "---  ------        --------------  -----  \n",
      " 0   make_model    4800 non-null   object \n",
      " 1   body_type     4800 non-null   object \n",
      " 2   Body Color    4796 non-null   object \n",
      " 3   km            4797 non-null   float64\n",
      " 4   Gearing Type  4800 non-null   object \n",
      " 5   Extras        4800 non-null   object \n",
      " 6   price         4800 non-null   int64  \n",
      "dtypes: float64(1), int64(1), object(5)\n",
      "memory usage: 262.6+ KB\n",
      "None\n"
     ]
    }
   ],
   "source": [
    "#feature hp gets dropped since is 85 for each row\n",
    "dataSet.drop(columns=[\"hp\"], inplace=True)\n",
    "# Checking quick overview of the dataSet\n",
    "print(dataSet.head())\n",
    "# Checking descriptive statistic of the dataSet\n",
    "print(dataSet.describe())\n",
    "#checking summary of the dataSet\n",
    "print(dataSet.info())"
   ]
  },
  {
   "cell_type": "markdown",
   "metadata": {},
   "source": [
    "#### (d) Check for missing , duplicates & unique values"
   ]
  },
  {
   "cell_type": "code",
   "execution_count": 193,
   "metadata": {},
   "outputs": [
    {
     "name": "stdout",
     "output_type": "stream",
     "text": [
      "make_model      0\n",
      "body_type       0\n",
      "Body Color      4\n",
      "km              3\n",
      "Gearing Type    0\n",
      "Extras          0\n",
      "price           0\n",
      "dtype: int64\n",
      "     make_model      body_type Body Color       km Gearing Type     Extras  \\\n",
      "0       Audi A1         Sedans      Black  56013.0    Automatic  Converter   \n",
      "1       Audi A1         Sedans        Red  80000.0    Automatic      Sport   \n",
      "2       Audi A1         Sedans      Black  83450.0    Automatic     Others   \n",
      "3       Audi A1         Sedans      Brown  73000.0    Automatic      Sport   \n",
      "4       Audi A1         Sedans      Black  16200.0    Automatic      Sport   \n",
      "...         ...            ...        ...      ...          ...        ...   \n",
      "4795    Audi A3         Sedans      White     54.0       Manual      Sport   \n",
      "4796    Audi A3         Sedans      White     50.0       Manual     Others   \n",
      "4797    Audi A3  Station wagon     Silver   6666.0       Manual     Others   \n",
      "4798    Audi A3         Sedans     Silver     10.0       Manual     Others   \n",
      "4799    Audi A3         Sedans     Silver     10.0       Manual     Others   \n",
      "\n",
      "      price  \n",
      "0     15770  \n",
      "1     14500  \n",
      "2     14640  \n",
      "3     14500  \n",
      "4     16790  \n",
      "...     ...  \n",
      "4795  25000  \n",
      "4796  24980  \n",
      "4797  24980  \n",
      "4798  24980  \n",
      "4799  24980  \n",
      "\n",
      "[4793 rows x 7 columns]\n",
      "(4309, 7)\n",
      "make_model         3\n",
      "body_type          7\n",
      "Body Color        13\n",
      "km              2443\n",
      "Gearing Type       3\n",
      "Extras             3\n",
      "price           1155\n",
      "dtype: int64\n"
     ]
    }
   ],
   "source": [
    "#Calculating the number of missing values in each column\n",
    "print(dataSet.isnull().sum())\n",
    "# Handeling missing values\n",
    "print(dataSet.dropna())\n",
    "# Dropping Duplicates if exists\n",
    "dataSet_duplicate = dataSet.drop_duplicates()\n",
    "print(dataSet_duplicate.shape)\n",
    "# Checking unique values columswise\n",
    "print(dataSet.nunique())"
   ]
  },
  {
   "cell_type": "markdown",
   "metadata": {},
   "source": [
    "#### (c) Histogram Plot"
   ]
  },
  {
   "cell_type": "code",
   "execution_count": 194,
   "metadata": {},
   "outputs": [
    {
     "data": {
      "image/png": "[encoded data removed]",
      "text/plain": [
       "<Figure size 1500x3000 with 1 Axes>"
      ]
     },
     "metadata": {},
     "output_type": "display_data"
    }
   ],
   "source": [
    "# Set the parameters that control the general style of the plots.\n",
    "sbn.set_style(style=\"whitegrid\") \n",
    "#dropping dependent feature column\n",
    "X=dataSet_without_outliers.drop('price',axis=1)\n",
    "# Selecting numerical independent feature columns names\n",
    "columns=['km']\n",
    "#Building Histogram plot for each independent features\n",
    "plt.figure(figsize=(15, 30) )\n",
    "for index, columns_name in enumerate(columns, 1): \n",
    "    plt.subplot(6, 2,index) \n",
    "    sbn.histplot(X[columns_name], kde=True)\n",
    "    skewness = round(X[columns_name].skew(),1)\n",
    "    plt.title(\"Feature Name: {} and Skewness of it: {}\".format(columns_name,skewness))\n",
    "plt.tight_layout()\n",
    "plt.show()"
   ]
  },
  {
   "cell_type": "markdown",
   "metadata": {},
   "source": [
    "### skewness and histogram shows that except Widht column all the columns are skewed \\ & do not follow perfectly normal distribution "
   ]
  },
  {
   "cell_type": "markdown",
   "metadata": {},
   "source": [
    "#### (d) Box Plot"
   ]
  },
  {
   "cell_type": "code",
   "execution_count": 195,
   "metadata": {},
   "outputs": [
    {
     "data": {
      "image/png": "[encoded data removed]",
      "text/plain": [
       "<Figure size 1500x3000 with 1 Axes>"
      ]
     },
     "metadata": {},
     "output_type": "display_data"
    }
   ],
   "source": [
    "# Set the parameters that control the general style of the plots.\n",
    "sbn.set_style(\"darkgrid\") \n",
    "#dropping dependent feature column\n",
    "X=dataSet_without_outliers.drop('price',axis=1)\n",
    "# Selecting numerical independent feature columns names\n",
    "columns=['km']\n",
    "#Building Box plot for each independent features \n",
    "plt.figure(figsize=(15, 30) )\n",
    "for index, columns_name in enumerate(columns, 1): \n",
    "    plt.subplot(6, 2, index) \n",
    "    sbn.boxplot(X[columns_name])\n",
    "    plt.title(\"Feature Name: {}\".format(columns_name))\n",
    "plt.tight_layout() \n",
    "plt.show() "
   ]
  },
  {
   "cell_type": "markdown",
   "metadata": {},
   "source": [
    "#### Boxplot shows that in km numerical independent attribute has outliers"
   ]
  },
  {
   "cell_type": "markdown",
   "metadata": {},
   "source": [
    "#### (c) Scatter Plot with Regression Line\n",
    "The dataset has almost exclusively categorical data, (except for km attribute). Being the numerosity of unique elements (for each categorical feature) not too high, we could think of One-Hot encode each one of them."
   ]
  },
  {
   "cell_type": "code",
   "execution_count": 196,
   "metadata": {},
   "outputs": [
    {
     "data": {
      "image/png": "[encoded data removed]",
      "text/plain": [
       "<Figure size 1500x3000 with 1 Axes>"
      ]
     },
     "metadata": {},
     "output_type": "display_data"
    }
   ],
   "source": [
    "# Set the parameters that control the general style of the plots.\n",
    "sbn.set_style(\"darkgrid\") \n",
    "#dropping dependent feature column\n",
    "X=dataSet.drop('price',axis=1)\n",
    "# Selecting numerical independent feature columns names \n",
    "columns=['km']\n",
    "#Building Box plot for each independent features \n",
    "plt.figure(figsize=(15, 30) )\n",
    "for index, columns_name in enumerate(columns, 1): \n",
    "    plt.subplot(6, 2, index) \n",
    "    # draw regplot\n",
    "    sbn.regplot(data=dataSet,x=dataSet[columns_name],y='price')\n",
    "    plt.title(\"Feature Name: {}\".format(columns_name))\n",
    "plt.tight_layout() \n",
    "# show the plot\n",
    "plt.show() "
   ]
  },
  {
   "cell_type": "markdown",
   "metadata": {},
   "source": [
    "#### The km column probably refers to used cars. If we look at the scatter plot price-km, there is a negative correlation between the two attributes. We can also plot the average price for a car, given a certain body type, color, gearing and model. Looks like orange cars are cheaper!"
   ]
  },
  {
   "cell_type": "markdown",
   "metadata": {},
   "source": [
    "### Feature Selection(2M)"
   ]
  },
  {
   "cell_type": "markdown",
   "metadata": {},
   "source": [
    "Apply Univariate filters identify top 5 significant features by evaluating each feature independently with respect to the target variable by exploring\n",
    "1. Mutual Information (Information Gain)\n",
    "2. Gini index\n",
    "3. Gain Ratio\n",
    "4. Chi-Squared test\n",
    "5. Fisher Score\n",
    "<br>(From the above 5 you are required to use any <b>two</b>)"
   ]
  },
  {
   "cell_type": "markdown",
   "metadata": {},
   "source": [
    "#### (a) 1st Filter Method - Mutual Information Classifier Method for Categorical variables"
   ]
  },
  {
   "cell_type": "code",
   "execution_count": 197,
   "metadata": {},
   "outputs": [
    {
     "data": {
      "text/html": [
       "<div>\n",
       "<style scoped>\n",
       "    .dataframe tbody tr th:only-of-type {\n",
       "        vertical-align: middle;\n",
       "    }\n",
       "\n",
       "    .dataframe tbody tr th {\n",
       "        vertical-align: top;\n",
       "    }\n",
       "\n",
       "    .dataframe thead th {\n",
       "        text-align: right;\n",
       "    }\n",
       "</style>\n",
       "<table border=\"1\" class=\"dataframe\">\n",
       "  <thead>\n",
       "    <tr style=\"text-align: right;\">\n",
       "      <th></th>\n",
       "      <th>Mutual_Info_Score</th>\n",
       "    </tr>\n",
       "  </thead>\n",
       "  <tbody>\n",
       "    <tr>\n",
       "      <th>km_binned</th>\n",
       "      <td>0.303887</td>\n",
       "    </tr>\n",
       "    <tr>\n",
       "      <th>Gearing Type</th>\n",
       "      <td>0.134836</td>\n",
       "    </tr>\n",
       "    <tr>\n",
       "      <th>make_model</th>\n",
       "      <td>0.077278</td>\n",
       "    </tr>\n",
       "    <tr>\n",
       "      <th>Body Color</th>\n",
       "      <td>0.045767</td>\n",
       "    </tr>\n",
       "    <tr>\n",
       "      <th>Extras</th>\n",
       "      <td>0.021127</td>\n",
       "    </tr>\n",
       "    <tr>\n",
       "      <th>body_type</th>\n",
       "      <td>0.011607</td>\n",
       "    </tr>\n",
       "  </tbody>\n",
       "</table>\n",
       "</div>"
      ],
      "text/plain": [
       "              Mutual_Info_Score\n",
       "km_binned              0.303887\n",
       "Gearing Type           0.134836\n",
       "make_model             0.077278\n",
       "Body Color             0.045767\n",
       "Extras                 0.021127\n",
       "body_type              0.011607"
      ]
     },
     "execution_count": 197,
     "metadata": {},
     "output_type": "execute_result"
    }
   ],
   "source": [
    "from sklearn.feature_selection import SelectKBest, mutual_info_classif\n",
    "# X & Y intialization\n",
    "categorical_var_list = ['make_model', 'body_type', 'Body Color','Gearing Type','Extras','km_binned']\n",
    "X= dataSet_without_outliers[categorical_var_list]\n",
    "Y = dataSet_without_outliers[\"price_binned\"]\n",
    "# mutual info function fit\n",
    "mut_info = SelectKBest(score_func=mutual_info_classif,k=5)\n",
    "mut_info.fit_transform(X,Y)\n",
    "# dataframe creation to contain mutual info score with variable names\n",
    "mut_info_score = pd.DataFrame(mut_info.scores_,index=X.columns,columns=['Mutual_Info_Score'])\n",
    "# sorting mutual infor score in descending order\n",
    "mut_info_score.sort_values(by=['Mutual_Info_Score'],ascending=False)"
   ]
  },
  {
   "cell_type": "markdown",
   "metadata": {},
   "source": [
    "#### (b) 2nd Filter Method : Chi Square Test  among categorical variables"
   ]
  },
  {
   "cell_type": "code",
   "execution_count": 198,
   "metadata": {},
   "outputs": [
    {
     "data": {
      "text/html": [
       "<div>\n",
       "<style scoped>\n",
       "    .dataframe tbody tr th:only-of-type {\n",
       "        vertical-align: middle;\n",
       "    }\n",
       "\n",
       "    .dataframe tbody tr th {\n",
       "        vertical-align: top;\n",
       "    }\n",
       "\n",
       "    .dataframe thead th {\n",
       "        text-align: right;\n",
       "    }\n",
       "</style>\n",
       "<table border=\"1\" class=\"dataframe\">\n",
       "  <thead>\n",
       "    <tr style=\"text-align: right;\">\n",
       "      <th></th>\n",
       "      <th>Column_Name</th>\n",
       "      <th>Chi_Sq_P_Value</th>\n",
       "    </tr>\n",
       "  </thead>\n",
       "  <tbody>\n",
       "    <tr>\n",
       "      <th>0</th>\n",
       "      <td>make_model</td>\n",
       "      <td>0.0</td>\n",
       "    </tr>\n",
       "    <tr>\n",
       "      <th>1</th>\n",
       "      <td>body_type</td>\n",
       "      <td>0.0</td>\n",
       "    </tr>\n",
       "    <tr>\n",
       "      <th>2</th>\n",
       "      <td>Body Color</td>\n",
       "      <td>0.0</td>\n",
       "    </tr>\n",
       "    <tr>\n",
       "      <th>3</th>\n",
       "      <td>Gearing Type</td>\n",
       "      <td>0.0</td>\n",
       "    </tr>\n",
       "    <tr>\n",
       "      <th>4</th>\n",
       "      <td>Extras</td>\n",
       "      <td>0.0</td>\n",
       "    </tr>\n",
       "    <tr>\n",
       "      <th>5</th>\n",
       "      <td>km_binned</td>\n",
       "      <td>0.0</td>\n",
       "    </tr>\n",
       "  </tbody>\n",
       "</table>\n",
       "</div>"
      ],
      "text/plain": [
       "    Column_Name  Chi_Sq_P_Value\n",
       "0    make_model             0.0\n",
       "1     body_type             0.0\n",
       "2    Body Color             0.0\n",
       "3  Gearing Type             0.0\n",
       "4        Extras             0.0\n",
       "5     km_binned             0.0"
      ]
     },
     "execution_count": 198,
     "metadata": {},
     "output_type": "execute_result"
    }
   ],
   "source": [
    "from scipy.stats import chi2_contingency\n",
    "# categorical variable list define\n",
    "categorical_var_list = ['make_model', 'body_type', 'Body Color','Gearing Type','Extras','km_binned']\n",
    "list1 = []\n",
    "\n",
    "# calculation p_value for chi sqaure test for all categorical variable present in the list above\n",
    "for column in categorical_var_list:\n",
    "    contingency_table = pd.crosstab(dataSet_without_outliers[column], dataSet_without_outliers['price_binned'])\n",
    "    chi2, p, degrees_of_freedom, expected_result = chi2_contingency(contingency_table)\n",
    "    list1.append(round(p,6))\n",
    "\n",
    "# dataframe creation to contain variable names and their correspondi p_vales for chi sqaure\n",
    "df2 = pd.DataFrame()\n",
    "df2['Column_Name'] = categorical_var_list\n",
    "df2['Chi_Sq_P_Value'] = list1\n",
    "\n",
    "df2.sort_values(by=['Chi_Sq_P_Value'])"
   ]
  },
  {
   "cell_type": "markdown",
   "metadata": {},
   "source": [
    "### Report observations (2M)\n",
    "\n",
    "Write your observations from the results of each of the above method(1M). Clearly justify your choice of the method.(1M)"
   ]
  },
  {
   "cell_type": "markdown",
   "metadata": {},
   "source": [
    "#### Obersvations:-"
   ]
  },
  {
   "cell_type": "markdown",
   "metadata": {},
   "source": [
    "#### Mutual Information :\n",
    "* Mutual Information Classfier is used to perform this filter method for feature selection.\n",
    "* km has also been binned for Mutual Information method.\n",
    "* pricing, the target variable is contineous as a numerical variable is needed for mututal information classifier method.\n",
    "* We can see the top 5 varaibles who have got the most mutual information with pricing_binned (pricing_binned Field) variable are - \n",
    "    1. km_binned\t\n",
    "    2. Gearing Type\n",
    "    3. make_model\n",
    "    4. Extras\n",
    "    5. Body Color\n"
   ]
  },
  {
   "cell_type": "markdown",
   "metadata": {},
   "source": [
    "#### Chi Square :\n",
    "* As Chi Square needs the target of dependent variable a categorical field , hence pricing field is numerical contineous variable to perform chi square\n",
    "* km has also been binned for Mutual Information method.\n",
    "* Since all p-values are 0.0, it indicates a strong relationship with the target variable. we can say that top 5 features will be \n",
    "    1. km_binned\t\n",
    "    2. Gearing Type\n",
    "    3. make_model\n",
    "    4. Extras\n",
    "    5. Body Color\n",
    "* In Chi Square we usually take those features whose p values are less than 0.05 and if p values are less than 0.05 we reject the null hypothesis."
   ]
  },
  {
   "cell_type": "markdown",
   "metadata": {},
   "source": [
    "### Correlation Analysis (3 M)\n",
    "Perform correlation analysis(1M) and plot the visuals(1M).Briefly explain each process,why is it used and interpret the result(1M)."
   ]
  },
  {
   "cell_type": "code",
   "execution_count": 199,
   "metadata": {},
   "outputs": [
    {
     "data": {
      "text/plain": [
       "<Figure size 800x500 with 0 Axes>"
      ]
     },
     "metadata": {},
     "output_type": "display_data"
    },
    {
     "data": {
      "image/png": "[encoded data removed]",
      "text/plain": [
       "<Figure size 800x500 with 2 Axes>"
      ]
     },
     "metadata": {},
     "output_type": "display_data"
    },
    {
     "data": {
      "image/png": "[encoded data removed]",
      "text/plain": [
       "<Figure size 1000x500 with 1 Axes>"
      ]
     },
     "metadata": {},
     "output_type": "display_data"
    }
   ],
   "source": [
    "plt.figure(figsize=(8, 5)) \n",
    "# Using Seaborn to create a heatmap \n",
    "columns=dataSet_without_outliers[['price','km']]\n",
    "plt.figure(figsize=(8, 5)) \n",
    "# Using Seaborn to create a heatmap \n",
    "sbn.heatmap(dataSet_without_outliers[['km','price']].corr(method='pearson'), annot=True, fmt='.3f', cmap='YlGnBu', linewidths=2) \n",
    "plt.title('Correlation Heatmap') \n",
    "plt.show() \n",
    "dataSet_without_outliers[['price','km']].corr(method='pearson')\n",
    "#scattered plot\n",
    "plt.figure(figsize=(10,5))\n",
    "sbn.scatterplot(x = dataSet['km'], y=dataSet['price'])\n",
    "plt.tight_layout()\n",
    "plt.show()"
   ]
  },
  {
   "cell_type": "markdown",
   "metadata": {},
   "source": [
    "#### Pearson Correlation :\n",
    "    * Pearson correaltion method has been applied on only numerical features and there are only 1 independent numerical  variable - \n",
    "      1- km . Target variable is Pricing. \n",
    "    * The correaltion coeffienct between km and pricing is super strong  -0.566. we can say there is negetive strong \n",
    "      relationship between km and pricing.\n",
    "    * The more the km will be , the less pricing will be \n"
   ]
  },
  {
   "cell_type": "markdown",
   "metadata": {},
   "source": [
    "### Model Building and Prediction (4M)\n",
    "\n",
    "Fit a linear regression model using the most important features identified(1M).Plot the visuals(1M).Briefly explain the regression model,equation (1M) and perform one prediction using the same(1M)."
   ]
  },
  {
   "cell_type": "markdown",
   "metadata": {},
   "source": [
    "### Model Building"
   ]
  },
  {
   "cell_type": "markdown",
   "metadata": {},
   "source": [
    "#### Split data in to features & target"
   ]
  },
  {
   "cell_type": "code",
   "execution_count": 200,
   "metadata": {},
   "outputs": [],
   "source": [
    "# importing required package\n",
    "from sklearn.model_selection import train_test_split\n",
    "#Dropping all columns except make_model\t, km, Gearing Type\n",
    "X=dataSet_without_outliers.drop(['price','km_binned','price_binned','Extras','body_type','Body Color'],axis=1)\n",
    "#Dropping all columns except Cost\n",
    "Y=dataSet_without_outliers['price']\n",
    "#Splitting train & test data\n",
    "X_train,X_test,Y_train,Y_test=train_test_split(X,Y,test_size=0.28,random_state=42)"
   ]
  },
  {
   "cell_type": "code",
   "execution_count": 201,
   "metadata": {},
   "outputs": [
    {
     "data": {
      "text/plain": [
       "0    15770\n",
       "1    14500\n",
       "2    14640\n",
       "3    14500\n",
       "4    16790\n",
       "Name: price, dtype: int64"
      ]
     },
     "execution_count": 201,
     "metadata": {},
     "output_type": "execute_result"
    }
   ],
   "source": [
    "Y.head()"
   ]
  },
  {
   "cell_type": "code",
   "execution_count": 202,
   "metadata": {},
   "outputs": [
    {
     "data": {
      "text/plain": [
       "numpy.ndarray"
      ]
     },
     "execution_count": 202,
     "metadata": {},
     "output_type": "execute_result"
    }
   ],
   "source": [
    "Y_train=Y_train.reset_index(drop=True)\n",
    "type(y_pred_train)"
   ]
  },
  {
   "cell_type": "code",
   "execution_count": 203,
   "metadata": {},
   "outputs": [],
   "source": [
    "y_pred_train=y_pred_train.tolist()"
   ]
  },
  {
   "cell_type": "markdown",
   "metadata": {},
   "source": [
    "#### Linear Regression Model using OLS"
   ]
  },
  {
   "cell_type": "code",
   "execution_count": 204,
   "metadata": {},
   "outputs": [
    {
     "name": "stdout",
     "output_type": "stream",
     "text": [
      "Time Taken : 0:00:00.004008\n",
      "***** On Train Data *****\n",
      "Model score: 0.48291081141845493\n",
      "Model X Coef :  [  1720.28880179 -10417.14571866   -740.63119602] \n",
      "Model Intercept :  21014.645912202057 \n",
      "Model MSE : 9371349.886188282\n",
      "Model RMSE :  3061.2660593598007 \n",
      "***** On Test Data *****\n",
      "Model MSE : 9345393.220616017\n",
      "Model RMSE :  3057.0235884951912 \n"
     ]
    }
   ],
   "source": [
    "from sklearn.linear_model import LinearRegression\n",
    "from datetime import datetime\n",
    "# Fit the model Linear Regression \n",
    "start_time = datetime.now()\n",
    "model = LinearRegression()\n",
    "model.fit(X_train, Y_train)\n",
    "OLS_time = datetime.now() - start_time\n",
    "print(f'Time Taken : {datetime.now() - start_time}')\n",
    "\n",
    "# (*********************On Train data *******************)\n",
    "print(\"***** On Train Data *****\")\n",
    "OLS_score = model.score(X_train, Y_train)\n",
    "print(f\"Model score: {OLS_score}\")\n",
    "print(f\"Model X Coef :  {model.coef_} \")\n",
    "print(f\"Model Intercept :  {model.intercept_} \")\n",
    "\n",
    "# Prediction on Train Data\n",
    "y_pred_train = model.predict(X_train)\n",
    "y_train_list = Y_train.to_list()\n",
    "# Perform Squared error Calculation\n",
    "se_sum_train = 0\n",
    "for i, j in zip( y_train_list, y_pred_train):\n",
    "  se_sum_train = se_sum_train +  (i - j)**2\n",
    "\n",
    "OLS_mse_train = se_sum_train/len(y_train_list)\n",
    "OLS_rmse_train = (se_sum_train / len(y_train_list)) ** .5\n",
    "\n",
    "print(f\"Model MSE : {OLS_mse_train}\")\n",
    "print(f\"Model RMSE :  {OLS_rmse_train} \")\n",
    "\n",
    "\n",
    "# (*********************On Test data *******************)\n",
    "print(\"***** On Test Data *****\")\n",
    "score = model.score(X_train, Y_train)\n",
    "y_pred_test = model.predict(X_test)\n",
    "y_test_list = Y_test.to_list()\n",
    "\n",
    "# Squared error Calculation\n",
    "se_sum_test = 0\n",
    "for i, j in zip( y_test_list, y_pred_test.tolist()):\n",
    "  se_sum_test = se_sum_test +  (i - j)**2\n",
    "OLS_mse_test = se_sum_test/len(y_test_list)\n",
    "OLS_rmse_test = (se_sum_test / len(y_test_list)) ** .5\n",
    "\n",
    "print(f\"Model MSE : {OLS_mse_test}\")\n",
    "print(f\"Model RMSE :  {OLS_rmse_test} \")"
   ]
  },
  {
   "cell_type": "markdown",
   "metadata": {},
   "source": [
    "### Linear regression using  Gradient Descent"
   ]
  },
  {
   "cell_type": "code",
   "execution_count": 205,
   "metadata": {},
   "outputs": [
    {
     "name": "stdout",
     "output_type": "stream",
     "text": [
      "Time Taken : 0:00:00.393773\n",
      "***** On Train Data *****\n",
      "Model score: 0.47698029592184543\n",
      "Model X Coef :  20744.759013525625 \n",
      "Model Intercept :  [ 1675.51952351 -9098.1738816   -788.9062358 ] \n",
      "Model MSE : 9478830.253118116\n",
      "Model RMSE :  3078.77089974524 \n",
      "***** On Test Data *****\n",
      "Model MSE : 9520327.784223542\n",
      "Model RMSE :  3085.50284138964 \n"
     ]
    }
   ],
   "source": [
    "from sklearn.metrics import r2_score\n",
    "\n",
    "class GD:\n",
    "    \n",
    "    def __init__(self,lr=0.01,loops=100):\n",
    "        \n",
    "        self.coef_ = None\n",
    "        self.intercept_ = None\n",
    "        self.lr = lr\n",
    "        self.loops = loops\n",
    "        \n",
    "    def fit_gd(self,X_train,y_train):\n",
    "        \n",
    "         \n",
    "        start_time = datetime.now()\n",
    "        # Intercept is initialized as 0\n",
    "        self.intercept = 0\n",
    "        # All coefficients are defined as 1 using numpy.\n",
    "        self.coef = np.ones(X_train.shape[1])\n",
    "        \n",
    "        for i in range(self.loops):\n",
    "            # intercept and coefficient modified here\n",
    "            y_pred = np.dot(X_train,self.coef) + self.intercept\n",
    "            intercept_derivative = -2 * np.mean(y_train - y_pred)\n",
    "            self.intercept = self.intercept - (self.lr * intercept_derivative)\n",
    "            \n",
    "            coef_derivative = -2 * np.dot((y_train - y_pred),X_train)/X_train.shape[0]\n",
    "            self.coef = self.coef - (self.lr * coef_derivative)\n",
    "            \n",
    "        print(f'Time Taken : {datetime.now() - start_time}')\n",
    "        time_taken = datetime.now() - start_time\n",
    "        return self.intercept,self.coef,time_taken\n",
    "    \n",
    "    def predict_gd(self,data):\n",
    "        #  predicting result value\n",
    "        return np.dot(data,self.coef) + self.intercept\n",
    "    \n",
    "\n",
    "\n",
    "# On Training Data----------------------------------------------------------------------------------\n",
    "# Class Object initialization (Learning Rate and number of epochs defined)\n",
    "gd_obj = GD(loops=2000,lr=0.01) \n",
    "# Model Fit\n",
    "coef,intercept,GD_time = gd_obj.fit_gd((X_train.to_numpy()),Y_train)\n",
    "# Train Data Prediction\n",
    "y_pred_train_gd = gd_obj.predict_gd((X_train.to_numpy()))\n",
    "# Model Score\n",
    "GD_score = r2_score(Y_train,y_pred_train_gd)\n",
    "print('***** On Train Data *****')\n",
    "print(f\"Model score: {GD_score}\")\n",
    "print(f\"Model X Coef :  {coef} \")\n",
    "print(f\"Model Intercept :  {intercept} \")\n",
    "\n",
    "\n",
    "y_train_list = Y_train.tolist()\n",
    "\n",
    "# Squared error Calculation\n",
    "se_sum_train = 0\n",
    "for i, j in zip( y_train_list, y_pred_train_gd.tolist()):\n",
    "  se_sum_train = se_sum_train +  (i - j)**2\n",
    "\n",
    "GD_mse_train = se_sum_train/len(y_train_list)\n",
    "GD_rmse_train = (se_sum_train / len(y_train_list)) ** .5\n",
    "\n",
    "print(f\"Model MSE : {GD_mse_train}\")\n",
    "print(f\"Model RMSE :  {GD_rmse_train} \")\n",
    "\n",
    "\n",
    "# On Test Data----------------------------------------------------------------------------------\n",
    "print('***** On Test Data *****')\n",
    "y_pred_test_gd = gd_obj.predict_gd((X_test.to_numpy()))\n",
    "y_test_list = Y_test.tolist()\n",
    "\n",
    "# Squared error Calculation\n",
    "se_sum_test = 0\n",
    "for i, j in zip( y_test_list, y_pred_test_gd.tolist()):\n",
    "  se_sum_test = se_sum_test +  (i - j)**2\n",
    "\n",
    "GD_mse_test = se_sum_test/len(y_test_list)\n",
    "GD_rmse_test = (se_sum_test / len(y_test_list)) ** .5\n",
    "\n",
    "print(f\"Model MSE : {GD_mse_test}\")\n",
    "print(f\"Model RMSE :  {GD_rmse_test} \")"
   ]
  },
  {
   "cell_type": "markdown",
   "metadata": {},
   "source": [
    "### Linear regression using Stochastic Gradient Descent"
   ]
  },
  {
   "cell_type": "code",
   "execution_count": 206,
   "metadata": {},
   "outputs": [
    {
     "name": "stdout",
     "output_type": "stream",
     "text": [
      " ******************SGD ********************** \n",
      "***** On Train Data *****\n",
      "Time Taken : 0:00:01.713199\n",
      "Model score: 0.46182582415860307\n",
      "Model X Coef :  20706.077458505704 \n",
      "Model Intercept :  [  2139.95817923 -10713.37339295   -274.81419802] \n",
      "Model MSE : 9753478.921800004\n",
      "Model RMSE :  3123.0560228404493 \n",
      "***** On Test Data *****\n",
      "Model MSE : 9635172.38145858\n",
      "Model RMSE :  3104.0574062762726 \n"
     ]
    }
   ],
   "source": [
    "from sklearn.metrics import r2_score\n",
    "class SGD:\n",
    "    \n",
    "    def __init__(self,lr=0.01,loops=100):\n",
    "        \n",
    "        self.coef = None\n",
    "        self.intercept = None\n",
    "        self.lr = lr\n",
    "        self.loops = loops\n",
    "        \n",
    "    def fit_sgd(self,X_train,y_train):\n",
    "       \n",
    "        start_time = datetime.now()\n",
    "        # Intercept is initialized as 0\n",
    "        self.intercept = 0\n",
    "        # All coefficients are defined as 1 using numpy.\n",
    "        self.coef = np.ones(X_train.shape[1])\n",
    "        \n",
    "        for i in range(self.loops):\n",
    "            for j in range(X_train.shape[0]):\n",
    "                indx = np.random.randint(0,X_train.shape[0])\n",
    "                # intercept and coefficient modified here\n",
    "                y_hat = np.dot(X_train[indx],self.coef) + self.intercept\n",
    "                \n",
    "                intercept_der = -2 * (y_train[indx] - y_hat)\n",
    "                \n",
    "                self.intercept = self.intercept - (self.lr * intercept_der)\n",
    "                \n",
    "                coef_der = -2 * np.dot((y_train[indx] - y_hat),X_train[indx])\n",
    "                self.coef = self.coef - (self.lr * coef_der)\n",
    "                \n",
    "        print(f'Time Taken : {datetime.now() - start_time}')\n",
    "        time_taken = datetime.now() - start_time\n",
    "        return self.intercept,self.coef,time_taken\n",
    "    \n",
    "    def predict_sgd(self,X_test):\n",
    "        return np.dot(X_test,self.coef) + self.intercept\n",
    "\n",
    "    \n",
    "\n",
    "\n",
    "# ******************************* On Training Data ***********************************\n",
    "# Class Object initialization (Learning Rate and number of epochs defined)\n",
    "print(' ******************SGD ********************** ')\n",
    "print('***** On Train Data *****')\n",
    "sgd_obj = SGD(loops=30,lr=0.01)\n",
    "# Model Fit\n",
    "\n",
    "coef,intercept,SGD_time = sgd_obj.fit_sgd((X_train.to_numpy()),Y_train)\n",
    "# Train Data Prediction\n",
    "y_pred_train_sgd = sgd_obj.predict_sgd((X_train.to_numpy()))\n",
    "# # Model Score\n",
    "SGD_score = r2_score(Y_train,y_pred_train_sgd)\n",
    "\n",
    "print(f\"Model score: {SGD_score}\")\n",
    "print(f\"Model X Coef :  {coef} \")\n",
    "print(f\"Model Intercept :  {intercept} \")\n",
    "\n",
    "\n",
    "y_train_list = Y_train.tolist()\n",
    "\n",
    "# # Squared error Calculation\n",
    "se_sum_train = 0\n",
    "for i, j in zip( y_train_list, y_pred_train_sgd.tolist()):\n",
    "  se_sum_train = se_sum_train +  (i - j)**2\n",
    "\n",
    "SGD_mse_train = se_sum_train/len(y_train_list)\n",
    "\n",
    "SGD_rmse_train = (se_sum_train / len(y_train_list)) ** .5\n",
    "\n",
    "print(f\"Model MSE : {SGD_mse_train}\")\n",
    "print(f\"Model RMSE :  {SGD_rmse_train} \")\n",
    "\n",
    "\n",
    "# On Test Data----------------------------------------------------------------------------------\n",
    "print('***** On Test Data *****')\n",
    "y_pred_test_sgd = sgd_obj.predict_sgd((X_test.to_numpy()))\n",
    "y_test_list = Y_test.tolist()\n",
    "\n",
    "# Squared error Calculation\n",
    "se_sum_test = 0\n",
    "for i, j in zip( y_test_list, y_pred_test_sgd.tolist()):\n",
    "  se_sum_test = se_sum_test +  (i - j)**2\n",
    "\n",
    "SGD_mse_test = se_sum_test/len(y_test_list)\n",
    "SGD_rmse_test = (se_sum_test / len(y_test_list)) ** .5\n",
    "\n",
    "print(f\"Model MSE : {SGD_mse_test}\")\n",
    "print(f\"Model RMSE :  {SGD_rmse_test} \")"
   ]
  },
  {
   "cell_type": "markdown",
   "metadata": {},
   "source": [
    "### Observations and Conclusions(1M)"
   ]
  },
  {
   "cell_type": "markdown",
   "metadata": {},
   "source": [
    "### Observations\n",
    "Feature Relevance: Identify and select features that have a significant impact on the target variable. For example, car km,makemodel,Gearing Type  are typically highly relevant for price prediction.\n",
    "\n",
    "Data Distribution: Analyze the distribution of the data to understand the range and frequency of different values. This can help identify any skewness or outliers that may affect the model's performance.\n",
    "\n",
    "Correlation Analysis: Perform correlation analysis to determine how features are related to each other and to the target variable. This helps in selecting the most impactful features and reducing multicollinearity.\n",
    "\n",
    "Model Performance: Evaluate different machine learning models to find the one that best fits the data. Common models for car prediction include linear regression, decision trees, random forests, and gradient boosting machines.\n",
    "\n",
    "Evaluation Metrics: Use appropriate evaluation metrics such as Mean Absolute Error (MAE), Mean Squared Error (MSE), and R-squared to measure the performance of the models.\n",
    "\n",
    "Overfitting and Underfitting: Monitor for overfitting (model performs well on training data but poorly on test data) and underfitting (model performs poorly on both training and test data). Techniques such as cross-validation, regularization, and pruning can help address these issues.\n",
    "\n",
    "Data Preprocessing: Ensure data is preprocessed correctly, including handling missing values, encoding categorical variables, scaling numerical features, and splitting data into training and testing sets.\n",
    "\n",
    "Conclusions\n",
    "Model Selection: Based on the evaluation metrics, choose the model that provides the best balance of accuracy and generalization. For instance, if a random forest model has the lowest MAE, it might be the best choice for predicting car prices.\n",
    "\n",
    "Feature Importance: Identify which features are most important for the prediction. For example, the year of manufacture, mileage, and brand might be the top predictors of car price.\n",
    "\n",
    "Predictive Accuracy: Conclude on the predictive accuracy of the model. If the model's predictions closely match actual values with low error metrics, it indicates good performance.\n",
    "\n",
    "Insights for Improvement: Highlight areas for further improvement, such as collecting more data, engineering additional features, or trying more advanced models.\n",
    "\n",
    "Practical Applications: Discuss practical applications of the model, such as using it for pricing strategy in car dealerships, recommending prices to sellers on online platforms, or evaluating trade-in values for customers.\n",
    "\n",
    "Limitations: Acknowledge any limitations of the model, such as the potential impact of market fluctuations, regional price differences, or the condition of the car not being fully captured by the available data.\n",
    "\n",
    "Future Work: Suggest directions for future work, such as incorporating real-time data, exploring more complex models like deep learning, or integrating additional features like market demand and supply trends.\n",
    "\n",
    "By following this structured approach, you can effectively observe and conclude on car prediction models, ensuring they are robust, accurate, and useful for practical applications.\n"
   ]
  },
  {
   "cell_type": "markdown",
   "metadata": {},
   "source": [
    "###  Solution (1M)\n",
    "\n",
    "What is the solution that is proposed to solve the business problem discussed in the beginning. Also share your learnings while working through solving the problem in terms of challenges, observations, decisions made etc."
   ]
  },
  {
   "cell_type": "markdown",
   "metadata": {},
   "source": [
    "### Solution: \n",
    "\n",
    "The solution proposed is a predictive model for car prices based on various car attributes. The model helps manufacturers, dealers, and customers make informed decisions regarding car pricing.\n",
    "Learnings:\n",
    "\n",
    "•\tChallenges: Handling missing data and data inconsistencies was challenging.\n",
    "\n",
    "•\tObservations: Feature selection helped in identifying the most influential features for predicting car prices.\n",
    "\n",
    "•\tDecisions Made: Standardization and normalization were applied to ensure data was in a common format.\n",
    "\n",
    "Summary\n",
    "\n",
    "1.\tBusiness Understanding: Identified the need for a car price prediction model.\n",
    "2.\tData Requirements and Collection: Collected data from Kaggle and identified key attributes.\n",
    "3.\tData Quality Checks: Handled duplicates, missing data, and inconsistencies.\n",
    "4.\tData Standardization and Normalization: Applied techniques to standardize and normalize data.\n",
    "5.\tExploratory Data Analysis: Used visuals to understand data distribution and relationships.\n",
    "6.\tFeature Selection: Applied univariate filters to identify significant features.\n",
    "7.\tCorrelation Analysis: Analyzed correlations between features.\n",
    "8.\tModel Building: Built and evaluated a linear regression model.\n",
    "9.\tSolution and Learnings: Proposed a solution for car price prediction and shared learnings.\n"
   ]
  }
 ],
 "metadata": {
  "kernelspec": {
   "display_name": "Python 3 (ipykernel)",
   "language": "python",
   "name": "python3"
  },
  "language_info": {
   "codemirror_mode": {
    "name": "ipython",
    "version": 3
   },
   "file_extension": ".py",
   "mimetype": "text/x-python",
   "name": "python",
   "nbconvert_exporter": "python",
   "pygments_lexer": "ipython3",
   "version": "3.12.2"
  },
  "widgets": {
   "state": {},
   "version": "1.1.2"
  }
 },
 "nbformat": 4,
 "nbformat_minor": 4
}
