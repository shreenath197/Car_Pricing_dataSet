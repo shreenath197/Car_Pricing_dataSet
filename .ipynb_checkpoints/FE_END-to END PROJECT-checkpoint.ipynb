{
 "cells": [
  {
   "cell_type": "markdown",
   "metadata": {
    "button": false,
    "new_sheet": false,
    "run_control": {
     "read_only": false
    }
   },
   "source": [
    "\n",
    "<h1 align=center><font size = 5>FEATURE ENGINEERING End-to End PROJECT (30M) </font></h1>\n",
    "<h2 align=center><font size = 5>AIML Certification Programme</font></h2>"
   ]
  },
  {
   "cell_type": "markdown",
   "metadata": {},
   "source": [
    "\n",
    "\n",
    "## Student Name and ID: Shreenath Omar and 2023AIML554\n",
    "\n",
    "Mention your name and ID if done individually<br>\n",
    "If done as a group,clearly mention the contribution from each group member qualitatively and as a precentage.<br>\n",
    "1.                          \n",
    "\n",
    "2.\n"
   ]
  },
  {
   "cell_type": "markdown",
   "metadata": {},
   "source": [
    "## Business Understanding (1M)\n",
    "\n",
    "Students are expected to identify a regression problem of your choice. You have to detail the Business Understanding part of your problem under this heading which basically addresses the following questions.\n",
    "\n",
    "1. What is the business problem that you are trying to solve\n",
    "\n",
    "   Answer:\n",
    "\n",
    "   Business Problem: The business problem at hand is predicting car prices based on various attributes. Accurate car price predictions can help   \n",
    "   manufacturers, dealers, and customers make informed decisions. For instance, manufacturers can set competitive prices, dealers can provide better \n",
    "   recommendations to customers, and customers can understand the value of a car based on its features.\n",
    "   \n",
    "2. What data do you need to answer the above problem?What are the different sources of data?\n",
    "\n",
    "   Answer:\n",
    "\n",
    "   Data Needed: To predict car prices, we need data on various car attributes such as make, model, year, engine size, fuel type, mileage, and more. \n",
    "   This data will help in understanding the factors that influence car prices and build a predictive model.\n",
    "\n",
    "   Sources of Data: The dataset used for this analysis is sourced from Kaggle: https://www.kaggle.com/datasets/ersany/car-price-prediction\n",
    "   "
   ]
  },
  {
   "cell_type": "markdown",
   "metadata": {
    "button": false,
    "new_sheet": false,
    "run_control": {
     "read_only": false
    }
   },
   "source": [
    "## Data Requirements and Data Collection (3+1M)<a id=\"0\"></a>"
   ]
  },
  {
   "cell_type": "markdown",
   "metadata": {
    "button": false,
    "new_sheet": false,
    "run_control": {
     "read_only": false
    }
   },
   "source": [
    "<img src=\"https://s3-api.us-geo.objectstorage.softlayer.net/cf-courses-data/CognitiveClass/DS0103EN/labs/images/lab2_fig1_flowchart_data_requirements.png\" width=500>"
   ]
  },
  {
   "cell_type": "markdown",
   "metadata": {
    "button": false,
    "new_sheet": false,
    "run_control": {
     "read_only": false
    }
   },
   "source": [
    "In the initial data collection stage, data scientists identify and gather the available data resources. These can be in the form of structured, unstructured, and even semi-structured data relevant to the problem domain.\n",
    "\n",
    "Identify the required data that fulfills the data requirements stage of the data science methodology <br>\n",
    "<b> Mention the source of the data.(Give the link if you have sourced it from any public data set)\n",
    "Briefly explain the data set identified .</b>"
   ]
  },
  {
   "cell_type": "markdown",
   "metadata": {},
   "source": [
    "#### Answer:\n",
    "Data Requirements and Data Collection\n",
    "\n",
    "Required Data: \n",
    "\n",
    "The required data includes structured data on car attributes. This data should have features that are likely to impact the car price such as brand, model, year of manufacture, mileage, fuel type, transmission, and engine size.\n",
    "\n",
    "Source: \n",
    "\n",
    "The dataset is publicly available on Kaggle: Car Price Prediction Dataset (link:-https://www.kaggle.com/datasets/ersany/car-price-prediction)\n",
    "\n",
    "dataset is uploaded in Github repository :- https://github.com/shreenath197/car_pricing_dataSet.git\n",
    "\n",
    "raw content url of car pricing dataset csv file:- https://raw.githubusercontent.com/shreenath197/car_pricing_dataSet/main/car_price.csv\n",
    "\n",
    "Dataset Overview: \n",
    "\n",
    "The dataset contains various attributes of cars which will be used to predict their prices. We will import this dataset and perform an initial analysis.\n"
   ]
  },
  {
   "cell_type": "markdown",
   "metadata": {},
   "source": [
    "### Import the above data and read it into a data frame "
   ]
  },
  {
   "cell_type": "code",
   "execution_count": 137,
   "metadata": {
    "button": false,
    "new_sheet": false,
    "run_control": {
     "read_only": false
    }
   },
   "outputs": [],
   "source": [
    "# importing required package\n",
    "import pandas as pd\n",
    "import warnings as war\n",
    "war.filterwarnings('ignore')\n",
    "# defining dataSet github raw url for csv dataSet file\n",
    "github_filePath=\"https://raw.githubusercontent.com/shreenath197/car_pricing_dataSet/main/car_price.csv\"\n",
    "#github_filePath=\"C:\\\\Users\\\\ASUS\\\\jupyterworkspace\\\\Assignment & Mini Project\\\\Module_02_Feature Engineering\\\\E2E Project\\\\car_price.csv\"\n",
    "# loading dataSet\n",
    "dataSet=pd.read_csv(github_filePath)"
   ]
  },
  {
   "cell_type": "markdown",
   "metadata": {
    "button": false,
    "new_sheet": false,
    "run_control": {
     "read_only": false
    }
   },
   "source": [
    "### Confirm the data has been correctly by displaying the first 5 and last 5 records."
   ]
  },
  {
   "cell_type": "code",
   "execution_count": 138,
   "metadata": {
    "button": false,
    "new_sheet": false,
    "run_control": {
     "read_only": false
    }
   },
   "outputs": [
    {
     "name": "stdout",
     "output_type": "stream",
     "text": [
      "*************************************Displaying below first 5 records*************************************\n"
     ]
    },
    {
     "data": {
      "text/html": [
       "<div>\n",
       "<style scoped>\n",
       "    .dataframe tbody tr th:only-of-type {\n",
       "        vertical-align: middle;\n",
       "    }\n",
       "\n",
       "    .dataframe tbody tr th {\n",
       "        vertical-align: top;\n",
       "    }\n",
       "\n",
       "    .dataframe thead th {\n",
       "        text-align: right;\n",
       "    }\n",
       "</style>\n",
       "<table border=\"1\" class=\"dataframe\">\n",
       "  <thead>\n",
       "    <tr style=\"text-align: right;\">\n",
       "      <th></th>\n",
       "      <th>make_model</th>\n",
       "      <th>body_type</th>\n",
       "      <th>Body Color</th>\n",
       "      <th>km</th>\n",
       "      <th>Gearing Type</th>\n",
       "      <th>hp</th>\n",
       "      <th>Extras</th>\n",
       "      <th>price</th>\n",
       "    </tr>\n",
       "  </thead>\n",
       "  <tbody>\n",
       "    <tr>\n",
       "      <th>0</th>\n",
       "      <td>Audi A1</td>\n",
       "      <td>Sedans</td>\n",
       "      <td>Black</td>\n",
       "      <td>56013.0</td>\n",
       "      <td>Automatic</td>\n",
       "      <td>85</td>\n",
       "      <td>Converter</td>\n",
       "      <td>15770</td>\n",
       "    </tr>\n",
       "    <tr>\n",
       "      <th>1</th>\n",
       "      <td>Audi A1</td>\n",
       "      <td>Sedans</td>\n",
       "      <td>Red</td>\n",
       "      <td>80000.0</td>\n",
       "      <td>Automatic</td>\n",
       "      <td>85</td>\n",
       "      <td>Sport</td>\n",
       "      <td>14500</td>\n",
       "    </tr>\n",
       "    <tr>\n",
       "      <th>2</th>\n",
       "      <td>Audi A1</td>\n",
       "      <td>Sedans</td>\n",
       "      <td>Black</td>\n",
       "      <td>83450.0</td>\n",
       "      <td>Automatic</td>\n",
       "      <td>85</td>\n",
       "      <td>Others</td>\n",
       "      <td>14640</td>\n",
       "    </tr>\n",
       "    <tr>\n",
       "      <th>3</th>\n",
       "      <td>Audi A1</td>\n",
       "      <td>Sedans</td>\n",
       "      <td>Brown</td>\n",
       "      <td>73000.0</td>\n",
       "      <td>Automatic</td>\n",
       "      <td>85</td>\n",
       "      <td>Sport</td>\n",
       "      <td>14500</td>\n",
       "    </tr>\n",
       "    <tr>\n",
       "      <th>4</th>\n",
       "      <td>Audi A1</td>\n",
       "      <td>Sedans</td>\n",
       "      <td>Black</td>\n",
       "      <td>16200.0</td>\n",
       "      <td>Automatic</td>\n",
       "      <td>85</td>\n",
       "      <td>Sport</td>\n",
       "      <td>16790</td>\n",
       "    </tr>\n",
       "  </tbody>\n",
       "</table>\n",
       "</div>"
      ],
      "text/plain": [
       "  make_model body_type Body Color       km Gearing Type  hp     Extras  price\n",
       "0    Audi A1    Sedans      Black  56013.0    Automatic  85  Converter  15770\n",
       "1    Audi A1    Sedans        Red  80000.0    Automatic  85      Sport  14500\n",
       "2    Audi A1    Sedans      Black  83450.0    Automatic  85     Others  14640\n",
       "3    Audi A1    Sedans      Brown  73000.0    Automatic  85      Sport  14500\n",
       "4    Audi A1    Sedans      Black  16200.0    Automatic  85      Sport  16790"
      ]
     },
     "execution_count": 138,
     "metadata": {},
     "output_type": "execute_result"
    }
   ],
   "source": [
    "# displaying first 5 records to confirming data loading\n",
    "print(\"*************************************Displaying below first 5 records*************************************\")\n",
    "dataSet.head()"
   ]
  },
  {
   "cell_type": "code",
   "execution_count": 139,
   "metadata": {},
   "outputs": [
    {
     "name": "stdout",
     "output_type": "stream",
     "text": [
      "***************************************Displaying below last 5 records***************************************\n"
     ]
    },
    {
     "data": {
      "text/html": [
       "<div>\n",
       "<style scoped>\n",
       "    .dataframe tbody tr th:only-of-type {\n",
       "        vertical-align: middle;\n",
       "    }\n",
       "\n",
       "    .dataframe tbody tr th {\n",
       "        vertical-align: top;\n",
       "    }\n",
       "\n",
       "    .dataframe thead th {\n",
       "        text-align: right;\n",
       "    }\n",
       "</style>\n",
       "<table border=\"1\" class=\"dataframe\">\n",
       "  <thead>\n",
       "    <tr style=\"text-align: right;\">\n",
       "      <th></th>\n",
       "      <th>make_model</th>\n",
       "      <th>body_type</th>\n",
       "      <th>Body Color</th>\n",
       "      <th>km</th>\n",
       "      <th>Gearing Type</th>\n",
       "      <th>hp</th>\n",
       "      <th>Extras</th>\n",
       "      <th>price</th>\n",
       "    </tr>\n",
       "  </thead>\n",
       "  <tbody>\n",
       "    <tr>\n",
       "      <th>4795</th>\n",
       "      <td>Audi A3</td>\n",
       "      <td>Sedans</td>\n",
       "      <td>White</td>\n",
       "      <td>54.0</td>\n",
       "      <td>Manual</td>\n",
       "      <td>85</td>\n",
       "      <td>Sport</td>\n",
       "      <td>25000</td>\n",
       "    </tr>\n",
       "    <tr>\n",
       "      <th>4796</th>\n",
       "      <td>Audi A3</td>\n",
       "      <td>Sedans</td>\n",
       "      <td>White</td>\n",
       "      <td>50.0</td>\n",
       "      <td>Manual</td>\n",
       "      <td>85</td>\n",
       "      <td>Others</td>\n",
       "      <td>24980</td>\n",
       "    </tr>\n",
       "    <tr>\n",
       "      <th>4797</th>\n",
       "      <td>Audi A3</td>\n",
       "      <td>Station wagon</td>\n",
       "      <td>Silver</td>\n",
       "      <td>6666.0</td>\n",
       "      <td>Manual</td>\n",
       "      <td>85</td>\n",
       "      <td>Others</td>\n",
       "      <td>24980</td>\n",
       "    </tr>\n",
       "    <tr>\n",
       "      <th>4798</th>\n",
       "      <td>Audi A3</td>\n",
       "      <td>Sedans</td>\n",
       "      <td>Silver</td>\n",
       "      <td>10.0</td>\n",
       "      <td>Manual</td>\n",
       "      <td>85</td>\n",
       "      <td>Others</td>\n",
       "      <td>24980</td>\n",
       "    </tr>\n",
       "    <tr>\n",
       "      <th>4799</th>\n",
       "      <td>Audi A3</td>\n",
       "      <td>Sedans</td>\n",
       "      <td>Silver</td>\n",
       "      <td>10.0</td>\n",
       "      <td>Manual</td>\n",
       "      <td>85</td>\n",
       "      <td>Others</td>\n",
       "      <td>24980</td>\n",
       "    </tr>\n",
       "  </tbody>\n",
       "</table>\n",
       "</div>"
      ],
      "text/plain": [
       "     make_model      body_type Body Color      km Gearing Type  hp  Extras  \\\n",
       "4795    Audi A3         Sedans      White    54.0       Manual  85   Sport   \n",
       "4796    Audi A3         Sedans      White    50.0       Manual  85  Others   \n",
       "4797    Audi A3  Station wagon     Silver  6666.0       Manual  85  Others   \n",
       "4798    Audi A3         Sedans     Silver    10.0       Manual  85  Others   \n",
       "4799    Audi A3         Sedans     Silver    10.0       Manual  85  Others   \n",
       "\n",
       "      price  \n",
       "4795  25000  \n",
       "4796  24980  \n",
       "4797  24980  \n",
       "4798  24980  \n",
       "4799  24980  "
      ]
     },
     "execution_count": 139,
     "metadata": {},
     "output_type": "execute_result"
    }
   ],
   "source": [
    "# displaying last 5 records to confirming data loading\n",
    "print(\"***************************************Displaying below last 5 records***************************************\")\n",
    "dataSet.tail()"
   ]
  },
  {
   "cell_type": "markdown",
   "metadata": {
    "button": false,
    "new_sheet": false,
    "run_control": {
     "read_only": false
    }
   },
   "source": [
    "### Get the dimensions of the dataframe."
   ]
  },
  {
   "cell_type": "code",
   "execution_count": 140,
   "metadata": {},
   "outputs": [
    {
     "name": "stdout",
     "output_type": "stream",
     "text": [
      "Dimention of dataframe:- (4800, 8)\n",
      "Total no. of rows:-      4800 \n",
      "Total no. of columns:-   8 \n"
     ]
    }
   ],
   "source": [
    "# displaying the dimensions of the DataFrame\n",
    "print(\"Dimention of dataframe:- {}\".format(dataSet.shape[0:2]))\n",
    "print(\"Total no. of rows:-      {} \".format(dataSet.shape[0:2][0]))\n",
    "print(\"Total no. of columns:-   {} \".format(dataSet.shape[0:2][1]))"
   ]
  },
  {
   "cell_type": "markdown",
   "metadata": {
    "button": false,
    "collapsed": true,
    "jupyter": {
     "outputs_hidden": true
    },
    "new_sheet": false,
    "run_control": {
     "read_only": false
    }
   },
   "source": [
    "### Display the description and statistical summary of the data."
   ]
  },
  {
   "cell_type": "code",
   "execution_count": 141,
   "metadata": {},
   "outputs": [
    {
     "data": {
      "text/html": [
       "<div>\n",
       "<style scoped>\n",
       "    .dataframe tbody tr th:only-of-type {\n",
       "        vertical-align: middle;\n",
       "    }\n",
       "\n",
       "    .dataframe tbody tr th {\n",
       "        vertical-align: top;\n",
       "    }\n",
       "\n",
       "    .dataframe thead th {\n",
       "        text-align: right;\n",
       "    }\n",
       "</style>\n",
       "<table border=\"1\" class=\"dataframe\">\n",
       "  <thead>\n",
       "    <tr style=\"text-align: right;\">\n",
       "      <th></th>\n",
       "      <th>km</th>\n",
       "      <th>hp</th>\n",
       "      <th>price</th>\n",
       "    </tr>\n",
       "  </thead>\n",
       "  <tbody>\n",
       "    <tr>\n",
       "      <th>count</th>\n",
       "      <td>4797.000000</td>\n",
       "      <td>4800.0</td>\n",
       "      <td>4800.000000</td>\n",
       "    </tr>\n",
       "    <tr>\n",
       "      <th>mean</th>\n",
       "      <td>31168.972274</td>\n",
       "      <td>85.0</td>\n",
       "      <td>19722.871875</td>\n",
       "    </tr>\n",
       "    <tr>\n",
       "      <th>std</th>\n",
       "      <td>33430.698231</td>\n",
       "      <td>0.0</td>\n",
       "      <td>4337.519969</td>\n",
       "    </tr>\n",
       "    <tr>\n",
       "      <th>min</th>\n",
       "      <td>0.000000</td>\n",
       "      <td>85.0</td>\n",
       "      <td>5555.000000</td>\n",
       "    </tr>\n",
       "    <tr>\n",
       "      <th>25%</th>\n",
       "      <td>4800.000000</td>\n",
       "      <td>85.0</td>\n",
       "      <td>15990.000000</td>\n",
       "    </tr>\n",
       "    <tr>\n",
       "      <th>50%</th>\n",
       "      <td>20049.000000</td>\n",
       "      <td>85.0</td>\n",
       "      <td>19588.000000</td>\n",
       "    </tr>\n",
       "    <tr>\n",
       "      <th>75%</th>\n",
       "      <td>47800.000000</td>\n",
       "      <td>85.0</td>\n",
       "      <td>22692.500000</td>\n",
       "    </tr>\n",
       "    <tr>\n",
       "      <th>max</th>\n",
       "      <td>128300.000000</td>\n",
       "      <td>85.0</td>\n",
       "      <td>56100.000000</td>\n",
       "    </tr>\n",
       "  </tbody>\n",
       "</table>\n",
       "</div>"
      ],
      "text/plain": [
       "                  km      hp         price\n",
       "count    4797.000000  4800.0   4800.000000\n",
       "mean    31168.972274    85.0  19722.871875\n",
       "std     33430.698231     0.0   4337.519969\n",
       "min         0.000000    85.0   5555.000000\n",
       "25%      4800.000000    85.0  15990.000000\n",
       "50%     20049.000000    85.0  19588.000000\n",
       "75%     47800.000000    85.0  22692.500000\n",
       "max    128300.000000    85.0  56100.000000"
      ]
     },
     "execution_count": 141,
     "metadata": {},
     "output_type": "execute_result"
    }
   ],
   "source": [
    "# displaying the description and statistical summary of the data\n",
    "dataSet.describe()"
   ]
  },
  {
   "cell_type": "markdown",
   "metadata": {
    "button": false,
    "new_sheet": false,
    "run_control": {
     "read_only": false
    }
   },
   "source": [
    "### Display the columns and their respective data types."
   ]
  },
  {
   "cell_type": "code",
   "execution_count": 142,
   "metadata": {},
   "outputs": [
    {
     "name": "stdout",
     "output_type": "stream",
     "text": [
      "<class 'pandas.core.frame.DataFrame'>\n",
      "RangeIndex: 4800 entries, 0 to 4799\n",
      "Data columns (total 8 columns):\n",
      " #   Column        Non-Null Count  Dtype  \n",
      "---  ------        --------------  -----  \n",
      " 0   make_model    4800 non-null   object \n",
      " 1   body_type     4800 non-null   object \n",
      " 2   Body Color    4796 non-null   object \n",
      " 3   km            4797 non-null   float64\n",
      " 4   Gearing Type  4800 non-null   object \n",
      " 5   hp            4800 non-null   int64  \n",
      " 6   Extras        4800 non-null   object \n",
      " 7   price         4800 non-null   int64  \n",
      "dtypes: float64(1), int64(2), object(5)\n",
      "memory usage: 300.1+ KB\n"
     ]
    }
   ],
   "source": [
    "# displaying the columns and their respective data types\n",
    "dataSet.info()"
   ]
  },
  {
   "cell_type": "markdown",
   "metadata": {},
   "source": [
    "Convert the columns to appropriate data types"
   ]
  },
  {
   "cell_type": "code",
   "execution_count": null,
   "metadata": {},
   "outputs": [],
   "source": []
  },
  {
   "cell_type": "markdown",
   "metadata": {},
   "source": [
    "#### Write your observations from the above.\n"
   ]
  },
  {
   "cell_type": "markdown",
   "metadata": {},
   "source": [
    "#### 1- Sample Size:\n",
    "   There are 4,797 entries for kilometers and 4,800 entries for price, indicating a very slight difference in the number of entries between the two   \n",
    "   variables.\n",
    "\n",
    "#### 2- Statistical summary of km and price: \n",
    "(A)- Kilometers (km)\n",
    "\n",
    "    --> The mean (average) number of kilometers is 31,931.95.\n",
    "    --> The median (50th percentile) is 20,049 kilometers, indicating that half of the cars have been driven \n",
    "        less than 20,049 kilometers.\n",
    "    --> The standard deviation is 35,902.59, which is relatively large compared to the mean, \n",
    "        suggesting a wide range of values.\n",
    "    --> The minimum value is 0 kilometers, indicating some cars might be brand new or with very minimal mileage.\n",
    "    --> The maximum value is 291,800 kilometers, indicating some cars have been driven extensively.\n",
    "   \n",
    "    \n",
    "(B)- Price\n",
    "\n",
    "    --> The mean (average) price is 19,722.87.\n",
    "    --> The median (50th percentile) price is 19,588, suggesting that half of the cars are priced below this value.\n",
    "    --> The standard deviation is 4,337.52, which shows moderate variability in prices.\n",
    "    --> The minimum price is 5,555, showing that some cars are quite inexpensive.\n",
    "    --> The maximum price is 56,100, indicating some cars are relatively high-priced.\n",
    "\n",
    "\n",
    "#### 3- Data Consistency:\n",
    "\n",
    "    --> The slight difference in the count of entries for kilometers and price (4,797 vs. 4,800) might suggest some missing \n",
    "        or mismatched data points.\n",
    "\n",
    "\n"
   ]
  },
  {
   "cell_type": "markdown",
   "metadata": {},
   "source": [
    "### Check for Data Quality Issues (1.5M)\n",
    "\n",
    "* duplicate data\n",
    "* missing data\n",
    "* data inconsistencies"
   ]
  },
  {
   "cell_type": "code",
   "execution_count": 143,
   "metadata": {},
   "outputs": [
    {
     "name": "stdout",
     "output_type": "stream",
     "text": [
      "Total no of duplicate records count:- 491\n"
     ]
    }
   ],
   "source": [
    "# Checking for duplicate records\n",
    "duplicateValue_Count=dataSet.duplicated().sum()\n",
    "print(\"Total no of duplicate records count:- {}\".format(duplicateValue_Count))"
   ]
  },
  {
   "cell_type": "code",
   "execution_count": 144,
   "metadata": {},
   "outputs": [
    {
     "name": "stdout",
     "output_type": "stream",
     "text": [
      "make_model      0\n",
      "body_type       0\n",
      "Body Color      4\n",
      "km              3\n",
      "Gearing Type    0\n",
      "hp              0\n",
      "Extras          0\n",
      "price           0\n",
      "dtype: int64\n"
     ]
    }
   ],
   "source": [
    "#Finding total no. of missing values for attributes specific\n",
    "missingValue_Count=dataSet.isnull().sum()\n",
    "print(missingValue_Count)"
   ]
  },
  {
   "cell_type": "code",
   "execution_count": 145,
   "metadata": {},
   "outputs": [
    {
     "name": "stdout",
     "output_type": "stream",
     "text": [
      "Body Color    4\n",
      "km            3\n",
      "dtype: int64\n",
      "Below is the list of  missing values attributes:- \n",
      "Index(['Body Color', 'km'], dtype='object')\n"
     ]
    }
   ],
   "source": [
    "#finding missing values attribues with counts\n",
    "missingValue_attributes=missingValue_Count[missingValue_Count.where(missingValue_Count.values>0).notnull()]\n",
    "print(missingValue_attributes)\n",
    "#Finding the attributes's key which have missing values\n",
    "print(\"Below is the list of  missing values attributes:- \")\n",
    "print(missingValue_attributes.keys())"
   ]
  },
  {
   "cell_type": "code",
   "execution_count": 146,
   "metadata": {},
   "outputs": [
    {
     "name": "stdout",
     "output_type": "stream",
     "text": [
      "Body Color attribute null value index:- Index([4606, 4607, 4608, 4609], dtype='int64')\n",
      "km attribute null value index:- Index([4636, 4637, 4638], dtype='int64')\n"
     ]
    }
   ],
   "source": [
    "#finding index for NULL valuees in 'Body Color' attribure\n",
    "BodyColor_nullValues_index=dataSet[dataSet['Body Color'].isnull()].index\n",
    "print(\"Body Color attribute null value index:- {}\".format(BodyColor_nullValues_index))\n",
    "km_nullValues_index=dataSet[dataSet['km'].isnull()].index\n",
    "print(\"km attribute null value index:- {}\".format(km_nullValues_index))"
   ]
  },
  {
   "cell_type": "code",
   "execution_count": 147,
   "metadata": {},
   "outputs": [
    {
     "name": "stdout",
     "output_type": "stream",
     "text": [
      "***** Data Inconsistency in Categorical features *****\n",
      "Column:make_model ['Audi A1' 'Audi A3' 'Audi A2']\n",
      "Column:body_type ['Sedans' 'Station wagon' 'Compact' 'Coupe' 'Other' 'Off-Road'\n",
      " 'Convertible']\n",
      "Column:Body Color ['Black' 'Red' 'Brown' 'White' 'Grey' 'Blue' 'Silver' 'Beige' 'Violet'\n",
      " 'Yellow' 'Green' 'Bronze' 'Orange' nan]\n"
     ]
    }
   ],
   "source": [
    "# checking for inconsistencies for categorical features\n",
    "print('***** Data Inconsistency in Categorical features *****')\n",
    "print('Column:make_model',dataSet['make_model'].unique())\n",
    "print('Column:body_type',dataSet['body_type'].unique())\n",
    "print('Column:Body Color',dataSet['Body Color'].unique())\n",
    "#print('Column:Extras',dataSet['Extras'].unique())"
   ]
  },
  {
   "cell_type": "code",
   "execution_count": 148,
   "metadata": {},
   "outputs": [
    {
     "name": "stdout",
     "output_type": "stream",
     "text": [
      "Column: km , Mean value : 31168.972274338128\n",
      "q1: 4800.0\n",
      "q3: 47800.0\n",
      "iqr: 43000.0\n",
      "upper_value: 112300.0\n",
      "lower_value: -59700.0\n",
      "-----------------------------------------------------------\n",
      "upper_value_km: 112300.0  lower_value_km: -59700.0\n",
      "-----------------------------------------------------------\n",
      "outliers_km_values: [119150.0, 119000.0, 126000.0, 128000.0, 122000.0, 128000.0, 127544.0, 127000.0, 127000.0, 126000.0, 125650.0, 125081.0, 117066.0, 125000.0, 125000.0, 126140.0, 124910.0, 123871.0, 119550.0, 123000.0, 125000.0, 122818.0, 122000.0, 122000.0, 121800.0, 121800.0, 121000.0, 118200.0, 120231.0, 120000.0, 117145.0, 126710.0, 124521.0, 128257.0, 116000.0, 120000.0, 120000.0, 120000.0, 120000.0, 121510.0, 115900.0, 115802.0, 115694.0, 115137.0, 115000.0, 115000.0, 115000.0, 115000.0, 115000.0, 121147.0, 128300.0, 120000.0, 121650.0, 124000.0, 122381.0, 120522.0, 120121.0, 121205.0, 122000.0, 123750.0, 113000.0, 116100.0, 124000.0, 126503.0, 124136.0, 122000.0, 119000.0, 120454.0, 123748.0, 115600.0, 118700.0, 126192.0, 120497.0, 123230.0, 114950.0, 124950.0, 124572.0, 119100.0, 118500.0, 114573.0, 119501.0, 117000.0, 113900.0, 126100.0, 118818.0, 121200.0, 127324.0, 119500.0, 126000.0, 120000.0, 118366.0, 120000.0, 120385.0, 122553.0, 124995.0, 124100.0, 113490.0, 118032.0, 120000.0, 120000.0, 127335.0, 125000.0, 121000.0, 126000.0, 126200.0, 112414.0, 119000.0, 126416.0, 119529.0, 122011.0, 119427.0, 120000.0, 120000.0, 120229.0, 113000.0, 118000.0, 120000.0, 124450.0, 116460.0, 124197.0, 124000.0, 119000.0, 119000.0, 118717.0, 122000.0, 127435.0, 119170.0, 121939.0, 125650.0, 117000.0, 115887.0, 114000.0, 113200.0, 127896.0, 112750.0, 118429.0, 118429.0, 120000.0, 118653.0, 124800.0, 126900.0, 123561.0, 123000.0, 122189.0, 115936.0, 116819.0, 116000.0, 116552.0, 119999.0, 124000.0, 113990.0, 113000.0, 127000.0, 119900.0, 119000.0, 114230.0, 121000.0, 122000.0, 125000.0, 125000.0, 119000.0, 121000.0, 122036.0, 116593.0, 122800.0, 119800.0, 118982.0, 126839.0, 122300.0, 124511.0, 127892.0, 116000.0, 117000.0, 116557.0, 126357.0, 113000.0, 116000.0, 117647.0, 117000.0, 112700.0, 119879.0, 127000.0, 114550.0]\n"
     ]
    }
   ],
   "source": [
    "# checking data inconsistency for numerical features\n",
    "# numerical list\n",
    "num_cols = ['km']\n",
    "num_cols\n",
    "# outlier List\n",
    "outliers_km=[]\n",
    "dataSet_tmp = dataSet[num_cols]\n",
    "dataSet_tmp\n",
    "\n",
    "for item in num_cols:\n",
    "    #print('item/col :' , item)\n",
    "    mean_value= dataSet_tmp[item].mean()\n",
    "    print('Column:' ,item,', Mean value :',mean_value)\n",
    "\n",
    "# q1 = np.percentile(df_tmp[item],25)\n",
    "    q1 = dataSet_tmp[item].quantile(0.25)\n",
    "    print('q1:',q1)\n",
    "    \n",
    "    #q3 = np.percentile(df_tmp[item],75)\n",
    "    q3 = dataSet_tmp[item].quantile(0.75)\n",
    "    print('q3:',q3)\n",
    "    \n",
    "    iqr = q3 - q1\n",
    "    print('iqr:',iqr)\n",
    "\n",
    "    upper_value = q3 + (1.5 * iqr)\n",
    "    print('upper_value:',upper_value)\n",
    "    lower_value = q1 - (1.5 * iqr)\n",
    "    print('lower_value:',lower_value)\n",
    "\n",
    "    for i in dataSet_tmp[item]:\n",
    "        if i > upper_value or i < lower_value:\n",
    "            if item == 'km':\n",
    "                outliers_km.append(i)\n",
    "                upper_value_km = upper_value\n",
    "                lower_value_km = lower_value\n",
    "print('-----------------------------------------------------------')\n",
    "print('upper_value_km:',upper_value_km,' lower_value_km:',lower_value_km)\n",
    "print('-----------------------------------------------------------')\n",
    "print('outliers_km_values:',outliers_km)"
   ]
  },
  {
   "cell_type": "code",
   "execution_count": 149,
   "metadata": {},
   "outputs": [
    {
     "data": {
      "image/png": "[encoded data removed]",
      "text/plain": [
       "<Figure size 1500x3000 with 1 Axes>"
      ]
     },
     "metadata": {},
     "output_type": "display_data"
    }
   ],
   "source": [
    "# importing required package\n",
    "import seaborn as sbn\n",
    "import matplotlib.pyplot as plt\n",
    "# All columns are not numeric, need to select the columns explicitly\n",
    "list = ['km']\n",
    "dataSet_new = dataSet[list]\n",
    "# Boxplot\n",
    "sbn.set_style(\"whitegrid\") \n",
    "columns = dataSet_new.columns\n",
    "# Plot build for each variable \n",
    "plt.figure(figsize=(15, 30) )\n",
    "for count, item in enumerate(columns, 1): \n",
    "    plt.subplot(4, 2, count) \n",
    "    sbn.boxplot(dataSet_new[item])\n",
    "    plt.title(f\"Variable Name : {item}\")\n",
    "\n",
    "plt.tight_layout() \n",
    "plt.show()\n"
   ]
  },
  {
   "cell_type": "markdown",
   "metadata": {},
   "source": [
    "### Handling the data quality issues(1.5M)\n",
    "Apply techniques\n",
    "* to remove duplicate data\n",
    "* to impute or remove missing data\n",
    "* to remove data inconsistencies <br>\n",
    "Give detailed explanation for each column how you handle the data quality issues.\n"
   ]
  },
  {
   "cell_type": "markdown",
   "metadata": {},
   "source": [
    "### Task 1:- to remove duplicate data"
   ]
  },
  {
   "cell_type": "code",
   "execution_count": 150,
   "metadata": {},
   "outputs": [
    {
     "name": "stdout",
     "output_type": "stream",
     "text": [
      "Total no. of rows:-                        4800 \n",
      "Total no of duplicate records count:-      491\n",
      "Total No. of Unique or unduplicated rows:- 4309\n"
     ]
    }
   ],
   "source": [
    "# removing duplicate records\n",
    "print(\"Total no. of rows:-                        {} \".format(dataSet.shape[0:2][0]))\n",
    "print(\"Total no of duplicate records count:-      {}\".format(duplicateValue_Count))\n",
    "dataSet = dataSet.drop_duplicates(subset=None,keep='first')\n",
    "print(\"Total No. of Unique or unduplicated rows:- {}\".format(dataSet.shape[0]))"
   ]
  },
  {
   "cell_type": "markdown",
   "metadata": {},
   "source": [
    "### Task 2 :- to impute or remove missing data"
   ]
  },
  {
   "cell_type": "code",
   "execution_count": 151,
   "metadata": {},
   "outputs": [
    {
     "name": "stdout",
     "output_type": "stream",
     "text": [
      "Body Color attribute mode:- Black\n"
     ]
    }
   ],
   "source": [
    "# Handling & imputing missing values for \"Body Color\" attribute\n",
    "# calculating mode of \"Body Colorl\" attribute as this is categorical values\n",
    "print(\"Body Color attribute mode:- {}\".format(dataSet['Body Color'].mode()[0]))"
   ]
  },
  {
   "cell_type": "code",
   "execution_count": 152,
   "metadata": {},
   "outputs": [],
   "source": [
    "# Imputing missing values by mode for \"Body Color\" attribute\n",
    "BodyColor_mode=dataSet['Body Color'].mode()[0]\n",
    "dataSet['Body Color'].fillna(BodyColor_mode,inplace=True)"
   ]
  },
  {
   "cell_type": "code",
   "execution_count": 153,
   "metadata": {
    "scrolled": true
   },
   "outputs": [
    {
     "data": {
      "text/plain": [
       "4606    Black\n",
       "4607    Black\n",
       "4608    Black\n",
       "4609    Black\n",
       "Name: Body Color, dtype: object"
      ]
     },
     "execution_count": 153,
     "metadata": {},
     "output_type": "execute_result"
    }
   ],
   "source": [
    "# Verifing that missing values of 'Body Color' attribute filled with mode \n",
    "dataSet['Body Color'].loc[BodyColor_nullValues_index]"
   ]
  },
  {
   "cell_type": "code",
   "execution_count": 154,
   "metadata": {},
   "outputs": [
    {
     "name": "stdout",
     "output_type": "stream",
     "text": [
      "km attribute mean:- 32181.0\n"
     ]
    }
   ],
   "source": [
    "# Handling & imputing missing values for \"km\" attribute\n",
    "# calculating mean of \"km\" attribute as this is numerical values\n",
    "print(\"km attribute mean:- {}\".format(round(dataSet['km'].mean(),0)))"
   ]
  },
  {
   "cell_type": "code",
   "execution_count": 155,
   "metadata": {},
   "outputs": [],
   "source": [
    "# Imputing missing values by mean for \"km\" attribute\n",
    "km_mean=round(dataSet['km'].mean())\n",
    "dataSet['km'].fillna(km_mean,inplace=True)"
   ]
  },
  {
   "cell_type": "code",
   "execution_count": 156,
   "metadata": {},
   "outputs": [
    {
     "data": {
      "text/plain": [
       "4636    32181.0\n",
       "4637    32181.0\n",
       "4638    32181.0\n",
       "Name: km, dtype: float64"
      ]
     },
     "execution_count": 156,
     "metadata": {},
     "output_type": "execute_result"
    }
   ],
   "source": [
    "# Verifing that missing values of 'km' attribute filled with mode \n",
    "dataSet['km'].loc[km_nullValues_index]"
   ]
  },
  {
   "cell_type": "code",
   "execution_count": 157,
   "metadata": {},
   "outputs": [
    {
     "data": {
      "text/plain": [
       "make_model      0\n",
       "body_type       0\n",
       "Body Color      0\n",
       "km              0\n",
       "Gearing Type    0\n",
       "hp              0\n",
       "Extras          0\n",
       "price           0\n",
       "dtype: int64"
      ]
     },
     "execution_count": 157,
     "metadata": {},
     "output_type": "execute_result"
    }
   ],
   "source": [
    "#Verifying that there is no missing values in dataset after imputing missing values\n",
    "dataSet.isnull().sum()"
   ]
  },
  {
   "cell_type": "code",
   "execution_count": 158,
   "metadata": {},
   "outputs": [
    {
     "data": {
      "text/plain": [
       "(4309, 8)"
      ]
     },
     "execution_count": 158,
     "metadata": {},
     "output_type": "execute_result"
    }
   ],
   "source": [
    "dataSet.shape[0:2]"
   ]
  },
  {
   "cell_type": "code",
   "execution_count": 159,
   "metadata": {},
   "outputs": [
    {
     "data": {
      "text/html": [
       "<div>\n",
       "<style scoped>\n",
       "    .dataframe tbody tr th:only-of-type {\n",
       "        vertical-align: middle;\n",
       "    }\n",
       "\n",
       "    .dataframe tbody tr th {\n",
       "        vertical-align: top;\n",
       "    }\n",
       "\n",
       "    .dataframe thead th {\n",
       "        text-align: right;\n",
       "    }\n",
       "</style>\n",
       "<table border=\"1\" class=\"dataframe\">\n",
       "  <thead>\n",
       "    <tr style=\"text-align: right;\">\n",
       "      <th></th>\n",
       "      <th>make_model</th>\n",
       "      <th>body_type</th>\n",
       "      <th>Body Color</th>\n",
       "      <th>km</th>\n",
       "      <th>Gearing Type</th>\n",
       "      <th>hp</th>\n",
       "      <th>Extras</th>\n",
       "      <th>price</th>\n",
       "    </tr>\n",
       "  </thead>\n",
       "  <tbody>\n",
       "    <tr>\n",
       "      <th>20</th>\n",
       "      <td>Audi A3</td>\n",
       "      <td>Sedans</td>\n",
       "      <td>White</td>\n",
       "      <td>119150.0</td>\n",
       "      <td>Manual</td>\n",
       "      <td>85</td>\n",
       "      <td>Sport</td>\n",
       "      <td>14780</td>\n",
       "    </tr>\n",
       "    <tr>\n",
       "      <th>24</th>\n",
       "      <td>Audi A3</td>\n",
       "      <td>Station wagon</td>\n",
       "      <td>Silver</td>\n",
       "      <td>119000.0</td>\n",
       "      <td>Manual</td>\n",
       "      <td>85</td>\n",
       "      <td>Others</td>\n",
       "      <td>12990</td>\n",
       "    </tr>\n",
       "    <tr>\n",
       "      <th>32</th>\n",
       "      <td>Audi A1</td>\n",
       "      <td>Sedans</td>\n",
       "      <td>White</td>\n",
       "      <td>126000.0</td>\n",
       "      <td>Manual</td>\n",
       "      <td>85</td>\n",
       "      <td>Others</td>\n",
       "      <td>11900</td>\n",
       "    </tr>\n",
       "    <tr>\n",
       "      <th>37</th>\n",
       "      <td>Audi A1</td>\n",
       "      <td>Compact</td>\n",
       "      <td>Black</td>\n",
       "      <td>128000.0</td>\n",
       "      <td>Manual</td>\n",
       "      <td>85</td>\n",
       "      <td>Sport</td>\n",
       "      <td>12950</td>\n",
       "    </tr>\n",
       "    <tr>\n",
       "      <th>59</th>\n",
       "      <td>Audi A1</td>\n",
       "      <td>Sedans</td>\n",
       "      <td>Black</td>\n",
       "      <td>122000.0</td>\n",
       "      <td>Manual</td>\n",
       "      <td>85</td>\n",
       "      <td>Others</td>\n",
       "      <td>10000</td>\n",
       "    </tr>\n",
       "    <tr>\n",
       "      <th>...</th>\n",
       "      <td>...</td>\n",
       "      <td>...</td>\n",
       "      <td>...</td>\n",
       "      <td>...</td>\n",
       "      <td>...</td>\n",
       "      <td>...</td>\n",
       "      <td>...</td>\n",
       "      <td>...</td>\n",
       "    </tr>\n",
       "    <tr>\n",
       "      <th>3657</th>\n",
       "      <td>Audi A3</td>\n",
       "      <td>Sedans</td>\n",
       "      <td>Black</td>\n",
       "      <td>117000.0</td>\n",
       "      <td>Manual</td>\n",
       "      <td>85</td>\n",
       "      <td>Others</td>\n",
       "      <td>16990</td>\n",
       "    </tr>\n",
       "    <tr>\n",
       "      <th>3663</th>\n",
       "      <td>Audi A3</td>\n",
       "      <td>Sedans</td>\n",
       "      <td>Black</td>\n",
       "      <td>112700.0</td>\n",
       "      <td>Manual</td>\n",
       "      <td>85</td>\n",
       "      <td>Sport</td>\n",
       "      <td>16690</td>\n",
       "    </tr>\n",
       "    <tr>\n",
       "      <th>3682</th>\n",
       "      <td>Audi A3</td>\n",
       "      <td>Station wagon</td>\n",
       "      <td>Black</td>\n",
       "      <td>119879.0</td>\n",
       "      <td>Manual</td>\n",
       "      <td>85</td>\n",
       "      <td>Sport</td>\n",
       "      <td>16900</td>\n",
       "    </tr>\n",
       "    <tr>\n",
       "      <th>3687</th>\n",
       "      <td>Audi A3</td>\n",
       "      <td>Sedans</td>\n",
       "      <td>White</td>\n",
       "      <td>127000.0</td>\n",
       "      <td>Manual</td>\n",
       "      <td>85</td>\n",
       "      <td>Others</td>\n",
       "      <td>16900</td>\n",
       "    </tr>\n",
       "    <tr>\n",
       "      <th>3695</th>\n",
       "      <td>Audi A3</td>\n",
       "      <td>Sedans</td>\n",
       "      <td>White</td>\n",
       "      <td>114550.0</td>\n",
       "      <td>Manual</td>\n",
       "      <td>85</td>\n",
       "      <td>Sport</td>\n",
       "      <td>19797</td>\n",
       "    </tr>\n",
       "  </tbody>\n",
       "</table>\n",
       "<p>180 rows × 8 columns</p>\n",
       "</div>"
      ],
      "text/plain": [
       "     make_model      body_type Body Color        km Gearing Type  hp  Extras  \\\n",
       "20      Audi A3         Sedans      White  119150.0       Manual  85   Sport   \n",
       "24      Audi A3  Station wagon     Silver  119000.0       Manual  85  Others   \n",
       "32      Audi A1         Sedans      White  126000.0       Manual  85  Others   \n",
       "37      Audi A1        Compact      Black  128000.0       Manual  85   Sport   \n",
       "59      Audi A1         Sedans      Black  122000.0       Manual  85  Others   \n",
       "...         ...            ...        ...       ...          ...  ..     ...   \n",
       "3657    Audi A3         Sedans      Black  117000.0       Manual  85  Others   \n",
       "3663    Audi A3         Sedans      Black  112700.0       Manual  85   Sport   \n",
       "3682    Audi A3  Station wagon      Black  119879.0       Manual  85   Sport   \n",
       "3687    Audi A3         Sedans      White  127000.0       Manual  85  Others   \n",
       "3695    Audi A3         Sedans      White  114550.0       Manual  85   Sport   \n",
       "\n",
       "      price  \n",
       "20    14780  \n",
       "24    12990  \n",
       "32    11900  \n",
       "37    12950  \n",
       "59    10000  \n",
       "...     ...  \n",
       "3657  16990  \n",
       "3663  16690  \n",
       "3682  16900  \n",
       "3687  16900  \n",
       "3695  19797  \n",
       "\n",
       "[180 rows x 8 columns]"
      ]
     },
     "execution_count": 159,
     "metadata": {},
     "output_type": "execute_result"
    }
   ],
   "source": [
    "# checking outliers records in 'km' features\n",
    "dataSet[(dataSet['km']<=lower_value_km) | (dataSet['km']>=upper_value_km)]"
   ]
  },
  {
   "cell_type": "code",
   "execution_count": 160,
   "metadata": {},
   "outputs": [
    {
     "name": "stdout",
     "output_type": "stream",
     "text": [
      "     make_model      body_type Body Color       km Gearing Type  hp  \\\n",
      "0       Audi A1         Sedans      Black  56013.0    Automatic  85   \n",
      "1       Audi A1         Sedans        Red  80000.0    Automatic  85   \n",
      "2       Audi A1         Sedans      Black  83450.0    Automatic  85   \n",
      "3       Audi A1         Sedans      Brown  73000.0    Automatic  85   \n",
      "4       Audi A1         Sedans      Black  16200.0    Automatic  85   \n",
      "...         ...            ...        ...      ...          ...  ..   \n",
      "4793    Audi A3         Sedans        Red     10.0       Manual  85   \n",
      "4794    Audi A3         Sedans     Silver     10.0       Manual  85   \n",
      "4795    Audi A3         Sedans      White     54.0       Manual  85   \n",
      "4796    Audi A3         Sedans      White     50.0       Manual  85   \n",
      "4797    Audi A3  Station wagon     Silver   6666.0       Manual  85   \n",
      "\n",
      "         Extras  price  \n",
      "0     Converter  15770  \n",
      "1         Sport  14500  \n",
      "2        Others  14640  \n",
      "3         Sport  14500  \n",
      "4         Sport  16790  \n",
      "...         ...    ...  \n",
      "4793      Sport  24987  \n",
      "4794     Others  24980  \n",
      "4795      Sport  25000  \n",
      "4796     Others  24980  \n",
      "4797     Others  24980  \n",
      "\n",
      "[4129 rows x 8 columns]\n"
     ]
    }
   ],
   "source": [
    "# removing outliers records in 'km' features\n",
    "dataSet_without_outliers=dataSet[(dataSet['km']>=lower_value_km) & (dataSet['km']<=upper_value_km)]\n",
    "print(dataSet_without_outliers)"
   ]
  },
  {
   "cell_type": "code",
   "execution_count": 161,
   "metadata": {},
   "outputs": [
    {
     "data": {
      "text/html": [
       "<div>\n",
       "<style scoped>\n",
       "    .dataframe tbody tr th:only-of-type {\n",
       "        vertical-align: middle;\n",
       "    }\n",
       "\n",
       "    .dataframe tbody tr th {\n",
       "        vertical-align: top;\n",
       "    }\n",
       "\n",
       "    .dataframe thead th {\n",
       "        text-align: right;\n",
       "    }\n",
       "</style>\n",
       "<table border=\"1\" class=\"dataframe\">\n",
       "  <thead>\n",
       "    <tr style=\"text-align: right;\">\n",
       "      <th></th>\n",
       "      <th>make_model</th>\n",
       "      <th>body_type</th>\n",
       "      <th>Body Color</th>\n",
       "      <th>km</th>\n",
       "      <th>Gearing Type</th>\n",
       "      <th>hp</th>\n",
       "      <th>Extras</th>\n",
       "      <th>price</th>\n",
       "    </tr>\n",
       "  </thead>\n",
       "  <tbody>\n",
       "  </tbody>\n",
       "</table>\n",
       "</div>"
      ],
      "text/plain": [
       "Empty DataFrame\n",
       "Columns: [make_model, body_type, Body Color, km, Gearing Type, hp, Extras, price]\n",
       "Index: []"
      ]
     },
     "execution_count": 161,
     "metadata": {},
     "output_type": "execute_result"
    }
   ],
   "source": [
    "# # checking that outliers records are removed in 'km' features\n",
    "dataSet_without_outliers[(dataSet['km']<=lower_value_km) | (dataSet['km']>=upper_value_km)]"
   ]
  },
  {
   "cell_type": "code",
   "execution_count": 163,
   "metadata": {},
   "outputs": [
    {
     "data": {
      "text/plain": [
       "<Axes: title={'center': 'km witout outlier '}, ylabel='km'>"
      ]
     },
     "execution_count": 163,
     "metadata": {},
     "output_type": "execute_result"
    },
    {
     "data": {
      "image/png": "[encoded data removed]",
      "text/plain": [
       "<Figure size 1500x1000 with 2 Axes>"
      ]
     },
     "metadata": {},
     "output_type": "display_data"
    }
   ],
   "source": [
    "plt.figure(figsize=(15,10))\n",
    "plt.subplot(1,2,1)\n",
    "plt.title('km with Outlier')\n",
    "sbn.boxplot(dataSet['km'])\n",
    "\n",
    "plt.subplot(1,2,2)\n",
    "plt.title('km witout outlier ')\n",
    "sbn.boxplot(dataSet_without_outliers['km'])"
   ]
  },
  {
   "cell_type": "markdown",
   "metadata": {},
   "source": [
    "### Standardise the data (1M)\n",
    "Standardization is the process of transforming data into a common format which you to make the meaningful comparison."
   ]
  },
  {
   "cell_type": "code",
   "execution_count": null,
   "metadata": {},
   "outputs": [],
   "source": []
  },
  {
   "cell_type": "code",
   "execution_count": null,
   "metadata": {},
   "outputs": [],
   "source": []
  },
  {
   "cell_type": "markdown",
   "metadata": {},
   "source": [
    "### Normalise the data wherever necessary(1M)"
   ]
  },
  {
   "cell_type": "code",
   "execution_count": null,
   "metadata": {},
   "outputs": [],
   "source": []
  },
  {
   "cell_type": "code",
   "execution_count": null,
   "metadata": {},
   "outputs": [],
   "source": []
  },
  {
   "cell_type": "markdown",
   "metadata": {},
   "source": [
    "### Perform Binning (1M)\n",
    "Binning is a process of transforming continuous numerical variables into discrete categorical 'bins', for grouped analysis."
   ]
  },
  {
   "cell_type": "code",
   "execution_count": null,
   "metadata": {},
   "outputs": [],
   "source": []
  },
  {
   "cell_type": "markdown",
   "metadata": {},
   "source": [
    "### Perform encoding (1M)"
   ]
  },
  {
   "cell_type": "code",
   "execution_count": null,
   "metadata": {},
   "outputs": [],
   "source": []
  },
  {
   "cell_type": "markdown",
   "metadata": {},
   "source": [
    "### Perform Data Discretization(2M)"
   ]
  },
  {
   "cell_type": "code",
   "execution_count": null,
   "metadata": {},
   "outputs": [],
   "source": []
  },
  {
   "cell_type": "code",
   "execution_count": null,
   "metadata": {},
   "outputs": [],
   "source": []
  },
  {
   "cell_type": "code",
   "execution_count": null,
   "metadata": {},
   "outputs": [],
   "source": []
  },
  {
   "cell_type": "markdown",
   "metadata": {},
   "source": [
    "### EDA using Visuals(3M)\n",
    "Use any 3 or more visualisation methods (Boxplot,Scatterplot,histogram,....etc) to perform Exploratory data analysis and briefly give interpretations from each visual.\n"
   ]
  },
  {
   "cell_type": "code",
   "execution_count": null,
   "metadata": {},
   "outputs": [],
   "source": []
  },
  {
   "cell_type": "code",
   "execution_count": null,
   "metadata": {},
   "outputs": [],
   "source": []
  },
  {
   "cell_type": "code",
   "execution_count": null,
   "metadata": {},
   "outputs": [],
   "source": []
  },
  {
   "cell_type": "markdown",
   "metadata": {},
   "source": [
    "### Feature Selection(2M)"
   ]
  },
  {
   "cell_type": "markdown",
   "metadata": {},
   "source": [
    "Apply Univariate filters identify top 5 significant features by evaluating each feature independently with respect to the target variable by exploring\n",
    "1. Mutual Information (Information Gain)\n",
    "2. Gini index\n",
    "3. Gain Ratio\n",
    "4. Chi-Squared test\n",
    "5. Fisher Score\n",
    "<br>(From the above 5 you are required to use any <b>two</b>)"
   ]
  },
  {
   "cell_type": "code",
   "execution_count": null,
   "metadata": {},
   "outputs": [],
   "source": []
  },
  {
   "cell_type": "code",
   "execution_count": null,
   "metadata": {},
   "outputs": [],
   "source": []
  },
  {
   "cell_type": "markdown",
   "metadata": {},
   "source": [
    "### Report observations (2M)\n",
    "\n",
    "Write your observations from the results of each of the above method(1M). Clearly justify your choice of the method.(1M)"
   ]
  },
  {
   "cell_type": "code",
   "execution_count": null,
   "metadata": {},
   "outputs": [],
   "source": []
  },
  {
   "cell_type": "code",
   "execution_count": null,
   "metadata": {},
   "outputs": [],
   "source": []
  },
  {
   "cell_type": "markdown",
   "metadata": {},
   "source": [
    "### Correlation Analysis (3 M)\n",
    "Perform correlation analysis(1M) and plot the visuals(1M).Briefly explain each process,why is it used and interpret the result(1M)."
   ]
  },
  {
   "cell_type": "code",
   "execution_count": null,
   "metadata": {},
   "outputs": [],
   "source": []
  },
  {
   "cell_type": "code",
   "execution_count": null,
   "metadata": {},
   "outputs": [],
   "source": []
  },
  {
   "cell_type": "code",
   "execution_count": null,
   "metadata": {},
   "outputs": [],
   "source": []
  },
  {
   "cell_type": "markdown",
   "metadata": {},
   "source": [
    "### Model Building and Prediction (4M)\n",
    "\n",
    "Fit a linear regression model using the most important features identified(1M).Plot the visuals(1M).Briefly explain the regression model,equation (1M) and perform one prediction using the same(1M)."
   ]
  },
  {
   "cell_type": "code",
   "execution_count": null,
   "metadata": {},
   "outputs": [],
   "source": []
  },
  {
   "cell_type": "code",
   "execution_count": null,
   "metadata": {},
   "outputs": [],
   "source": []
  },
  {
   "cell_type": "code",
   "execution_count": null,
   "metadata": {},
   "outputs": [],
   "source": []
  },
  {
   "cell_type": "code",
   "execution_count": null,
   "metadata": {},
   "outputs": [],
   "source": []
  },
  {
   "cell_type": "markdown",
   "metadata": {},
   "source": [
    "### Observations and Conclusions(1M)"
   ]
  },
  {
   "cell_type": "code",
   "execution_count": null,
   "metadata": {},
   "outputs": [],
   "source": []
  },
  {
   "cell_type": "markdown",
   "metadata": {},
   "source": [
    "###  Solution (1M)\n",
    "\n",
    "What is the solution that is proposed to solve the business problem discussed in the beginning. Also share your learnings while working through solving the problem in terms of challenges, observations, decisions made etc."
   ]
  },
  {
   "cell_type": "code",
   "execution_count": null,
   "metadata": {},
   "outputs": [],
   "source": []
  }
 ],
 "metadata": {
  "kernelspec": {
   "display_name": "Python 3 (ipykernel)",
   "language": "python",
   "name": "python3"
  },
  "language_info": {
   "codemirror_mode": {
    "name": "ipython",
    "version": 3
   },
   "file_extension": ".py",
   "mimetype": "text/x-python",
   "name": "python",
   "nbconvert_exporter": "python",
   "pygments_lexer": "ipython3",
   "version": "3.12.2"
  },
  "widgets": {
   "state": {},
   "version": "1.1.2"
  }
 },
 "nbformat": 4,
 "nbformat_minor": 4
}
